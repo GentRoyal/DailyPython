{
 "cells": [
  {
   "cell_type": "code",
   "execution_count": 1,
   "id": "ea1eee81-4497-424f-98aa-9966931e950d",
   "metadata": {},
   "outputs": [],
   "source": [
    "import pandas as pd"
   ]
  },
  {
   "cell_type": "code",
   "execution_count": 176,
   "id": "ff2ba898-82df-4e5e-bd53-c67b8fd5791d",
   "metadata": {},
   "outputs": [
    {
     "data": {
      "text/html": [
       "<div>\n",
       "<style scoped>\n",
       "    .dataframe tbody tr th:only-of-type {\n",
       "        vertical-align: middle;\n",
       "    }\n",
       "\n",
       "    .dataframe tbody tr th {\n",
       "        vertical-align: top;\n",
       "    }\n",
       "\n",
       "    .dataframe thead th {\n",
       "        text-align: right;\n",
       "    }\n",
       "</style>\n",
       "<table border=\"1\" class=\"dataframe\">\n",
       "  <thead>\n",
       "    <tr style=\"text-align: right;\">\n",
       "      <th></th>\n",
       "      <th>Job Title</th>\n",
       "      <th>Job Description</th>\n",
       "      <th>Rating</th>\n",
       "      <th>Company Name</th>\n",
       "      <th>Location</th>\n",
       "      <th>Headquarters</th>\n",
       "      <th>Size</th>\n",
       "      <th>Founded</th>\n",
       "      <th>Type of ownership</th>\n",
       "      <th>Industry</th>\n",
       "      <th>Sector</th>\n",
       "      <th>Revenue</th>\n",
       "      <th>Competitors</th>\n",
       "      <th>Salary</th>\n",
       "      <th>min_salary</th>\n",
       "      <th>max_salary</th>\n",
       "      <th>job state</th>\n",
       "    </tr>\n",
       "  </thead>\n",
       "  <tbody>\n",
       "    <tr>\n",
       "      <th>0</th>\n",
       "      <td>Sr Data Scientist</td>\n",
       "      <td>Description  The Senior Data Scientist is resp...</td>\n",
       "      <td>3.1</td>\n",
       "      <td>Healthfirst</td>\n",
       "      <td>New York, NY</td>\n",
       "      <td>New York, NY</td>\n",
       "      <td>1001 to 5000 employees</td>\n",
       "      <td>1993</td>\n",
       "      <td>Nonprofit Organization</td>\n",
       "      <td>Insurance Carriers</td>\n",
       "      <td>Insurance</td>\n",
       "      <td>Unknown / Non-Applicable</td>\n",
       "      <td>EmblemHealth, UnitedHealth Group, Aetna</td>\n",
       "      <td>137-171</td>\n",
       "      <td>137</td>\n",
       "      <td>171</td>\n",
       "      <td>NY</td>\n",
       "    </tr>\n",
       "    <tr>\n",
       "      <th>1</th>\n",
       "      <td>Data Scientist</td>\n",
       "      <td>Secure our Nation, Ignite your Future  Join th...</td>\n",
       "      <td>4.2</td>\n",
       "      <td>ManTech</td>\n",
       "      <td>Chantilly, VA</td>\n",
       "      <td>Herndon, VA</td>\n",
       "      <td>5001 to 10000 employees</td>\n",
       "      <td>1968</td>\n",
       "      <td>Company - Public</td>\n",
       "      <td>Research &amp; Development</td>\n",
       "      <td>Business Services</td>\n",
       "      <td>$1 to $2 billion (USD)</td>\n",
       "      <td>-1</td>\n",
       "      <td>137-171</td>\n",
       "      <td>137</td>\n",
       "      <td>171</td>\n",
       "      <td>VA</td>\n",
       "    </tr>\n",
       "  </tbody>\n",
       "</table>\n",
       "</div>"
      ],
      "text/plain": [
       "           Job Title                                    Job Description  \\\n",
       "0  Sr Data Scientist  Description  The Senior Data Scientist is resp...   \n",
       "1     Data Scientist  Secure our Nation, Ignite your Future  Join th...   \n",
       "\n",
       "   Rating Company Name       Location  Headquarters                     Size  \\\n",
       "0     3.1  Healthfirst   New York, NY  New York, NY   1001 to 5000 employees   \n",
       "1     4.2      ManTech  Chantilly, VA   Herndon, VA  5001 to 10000 employees   \n",
       "\n",
       "   Founded       Type of ownership                Industry             Sector  \\\n",
       "0     1993  Nonprofit Organization      Insurance Carriers          Insurance   \n",
       "1     1968        Company - Public  Research & Development  Business Services   \n",
       "\n",
       "                    Revenue                              Competitors   Salary  \\\n",
       "0  Unknown / Non-Applicable  EmblemHealth, UnitedHealth Group, Aetna  137-171   \n",
       "1    $1 to $2 billion (USD)                                       -1  137-171   \n",
       "\n",
       "  min_salary max_salary job state  \n",
       "0        137        171        NY  \n",
       "1        137        171        VA  "
      ]
     },
     "execution_count": 176,
     "metadata": {},
     "output_type": "execute_result"
    }
   ],
   "source": [
    "def wrangle(path):\n",
    "    df = pd.read_csv(path)\n",
    "\n",
    "    df['Salary'] = df['Salary Estimate'].str.split(' ', expand = True)[0]\n",
    "    df['Salary'] = df['Salary'].str.replace('$','').str.replace('K','')\n",
    "    df['min_salary'] = df['Salary'].str.split('-', expand = True)[0]\n",
    "    df['max_salary'] = df['Salary'].str.split('-', expand = True)[1]\n",
    "\n",
    "    col_drop = [\"index\", \"Salary Estimate\"]\n",
    "    df[\"Company Name\"] = df[\"Company Name\"].str.split(\"\\n\", expand = True)[0]\n",
    "\n",
    "    df_split = df['Location'].str.split(', ', expand=True)\n",
    "\n",
    "    # Create 'job state' column based on the length condition for the second column\n",
    "    df['job state'] = df_split.apply(lambda row: row[2] if len(str(row[1])) != 2 else row[1], axis=1)\n",
    "\n",
    "    df[\"Job Description\"] = df[\"Job Description\"].str.replace(\"\\n\", ' ')\n",
    "    \n",
    "\n",
    "    df.drop(columns = col_drop, inplace = True)\n",
    "\n",
    "\n",
    "    return df\n",
    "    \n",
    "df = wrangle(\"Uncleaned_DS_jobs.csv\")\n",
    "df.head(2)"
   ]
  },
  {
   "cell_type": "code",
   "execution_count": null,
   "id": "153c2128-e105-4d8d-9c2f-0ea0d0d9f96f",
   "metadata": {},
   "outputs": [],
   "source": [
    "def wrangle(path):\n",
    "    # Load the CSV file into a DataFrame\n",
    "    df = pd.read_csv(path)\n",
    "\n",
    "    # Extract only the salary value (before any space) from the 'Salary Estimate' column\n",
    "    # This is because the salary is the first part of the 'Salary Estimate' column\n",
    "    df['Salary'] = df['Salary Estimate'].str.split(' ', expand=True)[0]\n",
    "\n",
    "    # Remove the dollar sign and the 'K' (for thousands) from the salary values for easier processing\n",
    "    # $ and K symbols are typically used in salary estimates, so they are being removed\n",
    "    df['Salary'] = df['Salary'].str.replace('$', '').str.replace('K', '')\n",
    "\n",
    "    # Split the salary into two parts: 'min_salary' and 'max_salary'\n",
    "    # The 'min_salary' takes the first part of the salary (before the dash)\n",
    "    df['min_salary'] = df['Salary'].str.split('-', expand=True)[0]\n",
    "\n",
    "    # The 'max_salary' takes the second part of the salary (after the dash)\n",
    "    df['max_salary'] = df['Salary'].str.split('-', expand=True)[1]\n",
    "\n",
    "    # Drop unnecessary columns, in this case, 'index' and 'Salary Estimate'\n",
    "    # 'index' is redundant and 'Salary Estimate' is already split into a more useful column\n",
    "    col_drop = [\"index\", \"Salary Estimate\"]\n",
    "\n",
    "    # Clean the 'Company Name' column by removing any newline characters\n",
    "    # The company name might have extra information after a newline, so we take only the first part\n",
    "    df[\"Company Name\"] = df[\"Company Name\"].str.split(\"\\n\", expand=True)[0]\n",
    "\n",
    "    # Split the 'Location' column into two parts: city and state (assuming it's in the format 'City, State')\n",
    "    df_split = df['Location'].str.split(', ', expand=True)\n",
    "\n",
    "    # Create a new column 'job state' based on the second column of the split 'Location'\n",
    "    # If the length of the second column is not 2 (state abbreviations are usually 2 characters), \n",
    "    # it takes the value from the third column instead\n",
    "    df['job state'] = df_split.apply(lambda row: row[2] if len(str(row[1])) != 2 else row[1], axis=1)\n",
    "\n",
    "    # Replace newline characters in the 'Job Description' column with spaces to clean up the text\n",
    "    df[\"Job Description\"] = df[\"Job Description\"].str.replace(\"\\n\", ' ')\n",
    "\n",
    "    # Drop the columns specified earlier ('index' and 'Salary Estimate') as they are no longer needed\n",
    "    df.drop(columns=col_drop, inplace=True)\n",
    "\n",
    "    # Return the cleaned DataFrame\n",
    "    return df\n",
    "\n",
    "# Example usage: load and clean the dataset\n",
    "df = wrangle(\"Uncleaned_DS_jobs.csv\")\n",
    "\n",
    "# Display the first two rows of the cleaned DataFrame to check the output\n",
    "df.head(2)\n"
   ]
  },
  {
   "cell_type": "code",
   "execution_count": 171,
   "id": "ea0d450c-90b6-4b27-ab3f-b3ae121dbf03",
   "metadata": {},
   "outputs": [
    {
     "name": "stdout",
     "output_type": "stream",
     "text": [
      "<class 'pandas.core.frame.DataFrame'>\n",
      "RangeIndex: 672 entries, 0 to 671\n",
      "Data columns (total 17 columns):\n",
      " #   Column             Non-Null Count  Dtype  \n",
      "---  ------             --------------  -----  \n",
      " 0   Job Title          672 non-null    object \n",
      " 1   Job Description    672 non-null    object \n",
      " 2   Rating             672 non-null    float64\n",
      " 3   Company Name       672 non-null    object \n",
      " 4   Location           672 non-null    object \n",
      " 5   Headquarters       672 non-null    object \n",
      " 6   Size               672 non-null    object \n",
      " 7   Founded            672 non-null    int64  \n",
      " 8   Type of ownership  672 non-null    object \n",
      " 9   Industry           672 non-null    object \n",
      " 10  Sector             672 non-null    object \n",
      " 11  Revenue            672 non-null    object \n",
      " 12  Competitors        672 non-null    object \n",
      " 13  Salary             672 non-null    object \n",
      " 14  min_salary         672 non-null    object \n",
      " 15  max_salary         672 non-null    object \n",
      " 16  job state          649 non-null    object \n",
      "dtypes: float64(1), int64(1), object(15)\n",
      "memory usage: 89.4+ KB\n"
     ]
    }
   ],
   "source": [
    "df.info()"
   ]
  },
  {
   "cell_type": "code",
   "execution_count": 64,
   "id": "5c6c2c1f-9bdc-4461-99ea-c82d6c315d4f",
   "metadata": {},
   "outputs": [
    {
     "data": {
      "text/plain": [
       "array([ 3.1,  4.2,  3.8,  3.5,  2.9,  3.9,  4.4,  3.6,  4.5,  4.7,  3.7,\n",
       "        3.4,  4.1,  3.2,  4.3,  2.8,  5. ,  4.8,  3.3,  2.7,  2.2,  2.6,\n",
       "        4. ,  2.5,  4.9,  2.4, -1. ,  2.3,  4.6,  3. ,  2.1,  2. ])"
      ]
     },
     "execution_count": 64,
     "metadata": {},
     "output_type": "execute_result"
    }
   ],
   "source": [
    "df[\"Rating\"].unique()"
   ]
  },
  {
   "cell_type": "code",
   "execution_count": 66,
   "id": "db58f94c-7f84-4c3d-8a05-007537e1e38a",
   "metadata": {},
   "outputs": [
    {
     "data": {
      "text/plain": [
       "167    4.2\n",
       "179    3.6\n",
       "308    5.0\n",
       "Name: Rating, dtype: float64"
      ]
     },
     "execution_count": 66,
     "metadata": {},
     "output_type": "execute_result"
    }
   ],
   "source": [
    "df[\"Rating\"][(df[\"Rating\"].astype(\"string\") != df[\"Company Name\"].str.split(\"\\n\", expand = True)[1])]"
   ]
  },
  {
   "cell_type": "code",
   "execution_count": 73,
   "id": "1d8dfa3e-7633-4477-8ae4-df818212a8ee",
   "metadata": {},
   "outputs": [
    {
     "data": {
      "text/plain": [
       "array([False])"
      ]
     },
     "execution_count": 73,
     "metadata": {},
     "output_type": "execute_result"
    }
   ],
   "source": [
    "(df[\"Company Name\"].str.split(\"\\n\", expand = True)[0].str.contains(\"'\\'\")).unique()"
   ]
  },
  {
   "cell_type": "code",
   "execution_count": 59,
   "id": "1c94351f-3383-4917-960d-cdde529806b0",
   "metadata": {},
   "outputs": [
    {
     "data": {
      "text/plain": [
       "'Autodesk\\n4.0'"
      ]
     },
     "execution_count": 59,
     "metadata": {},
     "output_type": "execute_result"
    }
   ],
   "source": [
    "df[\"Company Name\"].loc[167]"
   ]
  },
  {
   "cell_type": "code",
   "execution_count": 76,
   "id": "ba9bac55-163a-45b2-8661-55f05c506dbe",
   "metadata": {
    "scrolled": true
   },
   "outputs": [
    {
     "data": {
      "text/plain": [
       "array(['New York, NY', 'Chantilly, VA', 'Boston, MA', 'Newton, MA',\n",
       "       'Santa Barbara, CA', 'Cambridge, MA', 'Bedford, MA',\n",
       "       'San Diego, CA', 'Chicago, IL', 'Herndon, VA', 'Saint Louis, MO',\n",
       "       'Richland, WA', 'Northbrook, IL', 'Washington, DC', 'Remote',\n",
       "       'Memphis, TN', 'Plano, TX', 'West Grove, PA', 'Phoenix, AZ',\n",
       "       'Appleton, WI', 'Atlanta, GA', 'Orlando, FL', 'Lexington, MA',\n",
       "       'McLean, VA', 'San Francisco, CA', 'Sheboygan, WI',\n",
       "       'United States', 'Bothell, WA', 'Lincoln, NE', 'Overland Park, KS',\n",
       "       'Santa Monica, CA', 'Portsmouth, NH', 'Ewing, NJ',\n",
       "       'South San Francisco, CA', 'Palo Alto, CA', 'Bellevue, WA',\n",
       "       'New Orleans, LA', 'Akron, OH', 'Fort Wayne, IN', 'Woburn, MA',\n",
       "       'Carson, CA', 'Coral Gables, FL', 'Santa Clara, CA',\n",
       "       'Brisbane, CA', 'Winter Park, FL', 'Redwood City, CA',\n",
       "       'Peoria, IL', 'Ipswich, MA', 'Carmel, IN', 'Emeryville, CA',\n",
       "       'Gaithersburg, MD', 'Longmont, CO', 'Austin, TX', 'Yakima, WA',\n",
       "       'Santa Cruz, CA', 'Springfield, VA', 'Alexandria, VA', 'Utah',\n",
       "       'Reston, VA', 'Denver, CO', 'New Jersey', 'Aurora, CO',\n",
       "       'Hill AFB, UT', 'Chandler, AZ', 'Indianapolis, IN',\n",
       "       'Nashville, TN', 'Timonium, MD', 'Burlingame, CA',\n",
       "       'Annapolis Junction, MD', 'Bethesda, MD', 'Dayton, OH',\n",
       "       'Schaumburg, IL', 'Cupertino, CA', 'Lehi, UT', 'Culver City, CA',\n",
       "       'Lake Oswego, OR', 'San Mateo, CA', 'Holyoke, MA',\n",
       "       'Woodbridge, NJ', 'Dearborn, MI', 'Maryland Heights, MO',\n",
       "       'Rockville, MD', 'Carpinteria, CA', 'Columbia, SC',\n",
       "       'Hauppauge, NY', 'Fort Meade, MD', 'Columbia, MO', 'Vicksburg, MS',\n",
       "       'Birmingham, AL', 'Blue Bell, PA', 'Cincinnati, OH',\n",
       "       'Harrisburg, PA', 'Oak Ridge, TN', 'San Carlos, CA', 'Waltham, MA',\n",
       "       'Fort Worth, TX', 'Smithfield, RI', 'Cedar Rapids, IA',\n",
       "       'Fort Belvoir, VA', 'Linthicum Heights, MD', 'Maple Plain, MN',\n",
       "       'Tulsa, OK', 'Baltimore, MD', 'Oklahoma City, OK',\n",
       "       'Scotts Valley, CA', 'Spartanburg, SC', 'Hartford, CT',\n",
       "       'Beavercreek, OH', 'Norfolk, VA', 'Charlotte, NC', 'Champaign, IL',\n",
       "       'Texas', 'Hoboken, NJ', 'Lebanon, IN', 'Oakland, CA',\n",
       "       'Melbourne, FL', 'Cleveland, OH', 'Norwell, MA', 'San Jose, CA',\n",
       "       'Piscataway, NJ', 'Danvers, MA', 'Vienna, VA', 'Livermore, CA',\n",
       "       'Pittsburgh, PA', 'Irvine, CA', 'Oshkosh, WI', 'Menlo Park, CA',\n",
       "       'Dallas, TX', 'Arlington, VA', 'Monroe, WI', 'Sacramento, CA',\n",
       "       'Hampton, VA', 'Richmond, VA', 'Monterey, CA', 'Woodlawn, MD',\n",
       "       'Ann Arbor, MI', 'Concord, CA', 'Durham, NC', 'Kent, OH',\n",
       "       'Laurel, MD', 'Columbia, MD', 'Falls Church, VA',\n",
       "       'Thousand Oaks, CA', 'Edison, NJ', 'Adelphi, MD', 'Seattle, WA',\n",
       "       'Sunnyvale, CA', 'Fremont, CA', 'Hamilton, NJ', 'Huntsville, AL',\n",
       "       'Merrifield, VA', 'Madison, WI', 'Philadelphia, PA',\n",
       "       'Winston-Salem, NC', 'Raleigh, NC', 'Burbank, CA', 'San Ramon, CA',\n",
       "       'Oxnard, CA', 'Kansas City, MO', 'Jersey City, NJ',\n",
       "       'Manchester, NH', 'Winters, TX', 'Brooklyn, NY', 'Germantown, MD',\n",
       "       'Omaha, NE', 'Open Fork, VA', 'Ashburn, VA', 'Lombard, IL',\n",
       "       'Alpharetta, GA', 'Boulder, CO', 'Mountain View, CA',\n",
       "       'Trumbull, CT', 'Sterling, VA', 'Foster City, CA', 'Frederick, MD',\n",
       "       'Colorado Springs, CO', 'Southfield, MI', 'San Clemente, CA',\n",
       "       'The Woodlands, TX', 'Pleasanton, CA', 'Wilmington, DE',\n",
       "       'Fort Sam Houston, TX', 'Lexington Park, MD',\n",
       "       'Patuxent, Anne Arundel, MD', 'Fairfax, VA', 'San Antonio, TX',\n",
       "       'Silver Spring, MD', 'Portland, OR', 'Simi Valley, CA',\n",
       "       'New Bedford, MA', 'Rancho Cucamonga, CA', 'Collegeville, PA',\n",
       "       'Minneapolis, MN', 'Gahanna, OH', 'California', 'Wellesley, MA',\n",
       "       'Washington, VA', 'Orange, CA', 'Bridgeport, WV', 'Oakville, CA',\n",
       "       'Naperville, IL', 'Houston, TX', 'Redmond, WA', 'West Chester, PA',\n",
       "       'Quantico, VA', 'Fort Lee, NJ', 'Irwindale, CA'], dtype=object)"
      ]
     },
     "execution_count": 76,
     "metadata": {},
     "output_type": "execute_result"
    }
   ],
   "source": [
    "df['Location'].unique()"
   ]
  },
  {
   "cell_type": "code",
   "execution_count": 81,
   "id": "83af36e3-7a36-41a1-aeec-f60e1a0f2167",
   "metadata": {},
   "outputs": [
    {
     "data": {
      "text/plain": [
       "array([False])"
      ]
     },
     "execution_count": 81,
     "metadata": {},
     "output_type": "execute_result"
    }
   ],
   "source": [
    "#df['Headquarters'].unique()\n",
    "contains_special_chars = df['Headquarters'].str.contains(r'[^a-zA-Z0-9]', regex=True)\n",
    "(contains_special_chars == False).unique()"
   ]
  },
  {
   "cell_type": "code",
   "execution_count": 83,
   "id": "8b91a12b-e688-4081-ab16-1ea250ab6b08",
   "metadata": {},
   "outputs": [
    {
     "data": {
      "text/plain": [
       "array(['1001 to 5000 employees', '5001 to 10000 employees',\n",
       "       '501 to 1000 employees', '51 to 200 employees', '10000+ employees',\n",
       "       '201 to 500 employees', '1 to 50 employees', '-1', 'Unknown'],\n",
       "      dtype=object)"
      ]
     },
     "execution_count": 83,
     "metadata": {},
     "output_type": "execute_result"
    }
   ],
   "source": [
    "df['Size'].unique()"
   ]
  },
  {
   "cell_type": "code",
   "execution_count": 84,
   "id": "83ef8175-79b1-4e89-8bba-fdd0d0e7a2d1",
   "metadata": {},
   "outputs": [
    {
     "data": {
      "text/plain": [
       "array([1993, 1968, 1981, 2000, 1998, 2010, 1996, 1990, 1983, 2014, 2012,\n",
       "       2016, 1965, 1973, 1986, 1997, 2015, 1945, 1988, 2017, 2011, 1967,\n",
       "       1860, 1992, 2003, 1951, 2005, 2019, 1925, 2008, 1999, 1978, 1966,\n",
       "       1912, 1958, 2013, 1849, 1781, 1926, 2006, 1994, 1863, 1995,   -1,\n",
       "       1982, 1974, 2001, 1985, 1913, 1971, 1911, 2009, 1959, 2007, 1939,\n",
       "       2002, 1961, 1963, 1969, 1946, 1957, 1953, 1948, 1850, 1851, 2004,\n",
       "       1976, 1918, 1954, 1947, 1955, 2018, 1937, 1917, 1935, 1929, 1820,\n",
       "       1952, 1932, 1894, 1960, 1788, 1830, 1984, 1933, 1880, 1887, 1970,\n",
       "       1942, 1980, 1989, 1908, 1853, 1875, 1914, 1898, 1956, 1977, 1987,\n",
       "       1896, 1972, 1949, 1962])"
      ]
     },
     "execution_count": 84,
     "metadata": {},
     "output_type": "execute_result"
    }
   ],
   "source": [
    "df['Founded'].unique()"
   ]
  },
  {
   "cell_type": "code",
   "execution_count": 85,
   "id": "71367775-3636-470f-b159-e393afcb5bd0",
   "metadata": {},
   "outputs": [
    {
     "data": {
      "text/plain": [
       "array(['Nonprofit Organization', 'Company - Public',\n",
       "       'Private Practice / Firm', 'Company - Private', 'Government',\n",
       "       'Subsidiary or Business Segment', 'Other Organization', '-1',\n",
       "       'Unknown', 'Hospital', 'Self-employed', 'College / University',\n",
       "       'Contract'], dtype=object)"
      ]
     },
     "execution_count": 85,
     "metadata": {},
     "output_type": "execute_result"
    }
   ],
   "source": [
    "df['Type of ownership'].unique()"
   ]
  },
  {
   "cell_type": "code",
   "execution_count": 86,
   "id": "2f003658-c5cc-444f-bc26-0b9e8796fad9",
   "metadata": {},
   "outputs": [],
   "source": [
    " # 9   Industry           672 non-null    object \n",
    " # 10  Sector             672 non-null    object \n",
    " # 11  Revenue            672 non-null    object \n",
    " # 12  Competitors"
   ]
  },
  {
   "cell_type": "code",
   "execution_count": 89,
   "id": "e003b6ee-8c80-4b87-9cb5-f50608d4f38a",
   "metadata": {},
   "outputs": [
    {
     "data": {
      "text/plain": [
       "array(['Unknown / Non-Applicable', '$1 to $2 billion (USD)',\n",
       "       '$100 to $500 million (USD)', '$10+ billion (USD)',\n",
       "       '$2 to $5 billion (USD)', '$500 million to $1 billion (USD)',\n",
       "       '$5 to $10 billion (USD)', '$10 to $25 million (USD)',\n",
       "       '$25 to $50 million (USD)', '$50 to $100 million (USD)',\n",
       "       '$1 to $5 million (USD)', '$5 to $10 million (USD)',\n",
       "       'Less than $1 million (USD)', '-1'], dtype=object)"
      ]
     },
     "execution_count": 89,
     "metadata": {},
     "output_type": "execute_result"
    }
   ],
   "source": [
    "df['Revenue'].unique()"
   ]
  },
  {
   "cell_type": "code",
   "execution_count": 97,
   "id": "31199dc8-df66-4a72-aed3-77318b7bf3ce",
   "metadata": {},
   "outputs": [],
   "source": [
    "min_salary = df['Salary'].str.split(\"-\", expand = True)[0]\n",
    "max_salary = df['Salary'].str.split(\"-\", expand = True)[1]"
   ]
  },
  {
   "cell_type": "code",
   "execution_count": 116,
   "id": "ba5f46d4-a019-4429-9b96-ea490999f017",
   "metadata": {},
   "outputs": [
    {
     "data": {
      "text/plain": [
       "0           New York, NY\n",
       "1          Chantilly, VA\n",
       "2             Boston, MA\n",
       "3             Newton, MA\n",
       "4           New York, NY\n",
       "             ...        \n",
       "667         Fort Lee, NJ\n",
       "668    San Francisco, CA\n",
       "669        Irwindale, CA\n",
       "670    San Francisco, CA\n",
       "671         New York, NY\n",
       "Name: Location, Length: 672, dtype: object"
      ]
     },
     "execution_count": 116,
     "metadata": {},
     "output_type": "execute_result"
    }
   ],
   "source": [
    "df['Location']"
   ]
  },
  {
   "cell_type": "code",
   "execution_count": 169,
   "id": "770ed744-acf2-467e-9988-f465df90af14",
   "metadata": {},
   "outputs": [
    {
     "data": {
      "text/plain": [
       "array(['NY', 'VA', 'MA', 'CA', 'IL', 'MO', 'WA', 'DC', None, 'TN', 'TX',\n",
       "       'PA', 'AZ', 'WI', 'GA', 'FL', 'NE', 'KS', 'NH', 'NJ', 'LA', 'OH',\n",
       "       'IN', 'MD', 'CO', 'UT', 'OR', 'MI', 'SC', 'MS', 'AL', 'RI', 'IA',\n",
       "       'MN', 'OK', 'CT', 'NC', 'DE', 'WV'], dtype=object)"
      ]
     },
     "execution_count": 169,
     "metadata": {},
     "output_type": "execute_result"
    }
   ],
   "source": [
    "# Split 'Location' into 3 columns\n",
    "df_split = df['Location'].str.split(', ', expand=True)\n",
    "\n",
    "# Create 'job state' column based on the length condition for the second column\n",
    "#df['job state'] = df_split.apply(lambda row: row[1] if len(str(row[1])) != 2 else row[2], axis=1)\n",
    "df['job state'] = df_split.apply(lambda row: row[2] if len(str(row[1])) != 2 else row[1], axis=1)\n",
    "\n",
    "\n",
    "# Display the DataFrame with the new column\n",
    "df['job state'].unique()"
   ]
  },
  {
   "cell_type": "code",
   "execution_count": 166,
   "id": "79b782b5-c4a0-4f06-9445-d4ed06ed128d",
   "metadata": {},
   "outputs": [
    {
     "data": {
      "text/html": [
       "<div>\n",
       "<style scoped>\n",
       "    .dataframe tbody tr th:only-of-type {\n",
       "        vertical-align: middle;\n",
       "    }\n",
       "\n",
       "    .dataframe tbody tr th {\n",
       "        vertical-align: top;\n",
       "    }\n",
       "\n",
       "    .dataframe thead th {\n",
       "        text-align: right;\n",
       "    }\n",
       "</style>\n",
       "<table border=\"1\" class=\"dataframe\">\n",
       "  <thead>\n",
       "    <tr style=\"text-align: right;\">\n",
       "      <th></th>\n",
       "      <th>0</th>\n",
       "      <th>1</th>\n",
       "      <th>2</th>\n",
       "    </tr>\n",
       "  </thead>\n",
       "  <tbody>\n",
       "    <tr>\n",
       "      <th>0</th>\n",
       "      <td>New York</td>\n",
       "      <td>NY</td>\n",
       "      <td>None</td>\n",
       "    </tr>\n",
       "    <tr>\n",
       "      <th>1</th>\n",
       "      <td>Chantilly</td>\n",
       "      <td>VA</td>\n",
       "      <td>None</td>\n",
       "    </tr>\n",
       "    <tr>\n",
       "      <th>2</th>\n",
       "      <td>Boston</td>\n",
       "      <td>MA</td>\n",
       "      <td>None</td>\n",
       "    </tr>\n",
       "    <tr>\n",
       "      <th>3</th>\n",
       "      <td>Newton</td>\n",
       "      <td>MA</td>\n",
       "      <td>None</td>\n",
       "    </tr>\n",
       "    <tr>\n",
       "      <th>4</th>\n",
       "      <td>New York</td>\n",
       "      <td>NY</td>\n",
       "      <td>None</td>\n",
       "    </tr>\n",
       "    <tr>\n",
       "      <th>...</th>\n",
       "      <td>...</td>\n",
       "      <td>...</td>\n",
       "      <td>...</td>\n",
       "    </tr>\n",
       "    <tr>\n",
       "      <th>667</th>\n",
       "      <td>Fort Lee</td>\n",
       "      <td>NJ</td>\n",
       "      <td>None</td>\n",
       "    </tr>\n",
       "    <tr>\n",
       "      <th>668</th>\n",
       "      <td>San Francisco</td>\n",
       "      <td>CA</td>\n",
       "      <td>None</td>\n",
       "    </tr>\n",
       "    <tr>\n",
       "      <th>669</th>\n",
       "      <td>Irwindale</td>\n",
       "      <td>CA</td>\n",
       "      <td>None</td>\n",
       "    </tr>\n",
       "    <tr>\n",
       "      <th>670</th>\n",
       "      <td>San Francisco</td>\n",
       "      <td>CA</td>\n",
       "      <td>None</td>\n",
       "    </tr>\n",
       "    <tr>\n",
       "      <th>671</th>\n",
       "      <td>New York</td>\n",
       "      <td>NY</td>\n",
       "      <td>None</td>\n",
       "    </tr>\n",
       "  </tbody>\n",
       "</table>\n",
       "<p>672 rows × 3 columns</p>\n",
       "</div>"
      ],
      "text/plain": [
       "                 0   1     2\n",
       "0         New York  NY  None\n",
       "1        Chantilly  VA  None\n",
       "2           Boston  MA  None\n",
       "3           Newton  MA  None\n",
       "4         New York  NY  None\n",
       "..             ...  ..   ...\n",
       "667       Fort Lee  NJ  None\n",
       "668  San Francisco  CA  None\n",
       "669      Irwindale  CA  None\n",
       "670  San Francisco  CA  None\n",
       "671       New York  NY  None\n",
       "\n",
       "[672 rows x 3 columns]"
      ]
     },
     "execution_count": 166,
     "metadata": {},
     "output_type": "execute_result"
    }
   ],
   "source": [
    "df['Location'].str.split(', ', expand=True)"
   ]
  },
  {
   "cell_type": "code",
   "execution_count": 175,
   "id": "87787c66-7b2e-4f89-b2b8-2aa3d6edbca6",
   "metadata": {
    "scrolled": true
   },
   "outputs": [
    {
     "data": {
      "text/plain": [
       "0      Description  The Senior Data Scientist is resp...\n",
       "1      Secure our Nation, Ignite your Future  Join th...\n",
       "2      Overview   Analysis Group is one of the larges...\n",
       "3      JOB DESCRIPTION:  Do you have a passion for Da...\n",
       "4      Data Scientist Affinity Solutions / Marketing ...\n",
       "                             ...                        \n",
       "667    Summary  We’re looking for a data scientist to...\n",
       "668    Job Description Become a thought leader within...\n",
       "669    Join a thriving company that is changing the w...\n",
       "670    100 Remote Opportunity As an AINLP Data Scient...\n",
       "671    Description  The Data Scientist will be part o...\n",
       "Name: Job Description, Length: 672, dtype: object"
      ]
     },
     "execution_count": 175,
     "metadata": {},
     "output_type": "execute_result"
    }
   ],
   "source": [
    "df[\"Job Description\"] = df[\"Job Description\"].str.replace(\"\\n\", ' ')\n",
    "df[\"Job Description\"]"
   ]
  },
  {
   "cell_type": "code",
   "execution_count": null,
   "id": "671c3b7a-5415-4c8c-8236-6ba191c7133e",
   "metadata": {},
   "outputs": [],
   "source": []
  }
 ],
 "metadata": {
  "kernelspec": {
   "display_name": "Python 3 (ipykernel)",
   "language": "python",
   "name": "python3"
  },
  "language_info": {
   "codemirror_mode": {
    "name": "ipython",
    "version": 3
   },
   "file_extension": ".py",
   "mimetype": "text/x-python",
   "name": "python",
   "nbconvert_exporter": "python",
   "pygments_lexer": "ipython3",
   "version": "3.12.4"
  }
 },
 "nbformat": 4,
 "nbformat_minor": 5
}
