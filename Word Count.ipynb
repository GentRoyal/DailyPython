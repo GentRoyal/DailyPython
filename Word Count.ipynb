{
 "cells": [
  {
   "cell_type": "markdown",
   "id": "f347b026-9840-4efb-9f8e-f92a488d3358",
   "metadata": {},
   "source": [
    "**Task: Count the frequency of words in a text.**\n",
    "\n",
    "You have a paragraph of text, and you want to count how often each word appears in that text.\n",
    "\n",
    "**Example Text:**\n",
    "```python\n",
    "text = \"\"\"\n",
    "Python is an amazing programming language. Python allows developers to solve problems quickly. \n",
    "It is widely used in data science, web development, and automation.\n",
    "\"\"\"\n",
    "```\n",
    "\n",
    "**Steps:**\n",
    "1. Convert the text to lowercase to ensure that word counts are case-insensitive.\n",
    "2. Split the text into individual words.\n",
    "3. Use a dictionary to count the frequency of each word.\n",
    "4. Print the result."
   ]
  },
  {
   "cell_type": "code",
   "execution_count": 4,
   "id": "b0af2240-9064-432c-b1d3-c9b20d90bf72",
   "metadata": {
    "scrolled": true
   },
   "outputs": [
    {
     "data": {
      "text/plain": [
       "{'Python': 2,\n",
       " 'is': 2,\n",
       " 'an': 1,\n",
       " 'amazing': 1,\n",
       " 'programming': 1,\n",
       " 'language.': 1,\n",
       " 'allows': 1,\n",
       " 'developers': 1,\n",
       " 'to': 1,\n",
       " 'solve': 1,\n",
       " 'problems': 1,\n",
       " 'quickly.': 1,\n",
       " 'It': 1,\n",
       " 'widely': 1,\n",
       " 'used': 1,\n",
       " 'in': 1,\n",
       " 'data': 1,\n",
       " 'science,': 1,\n",
       " 'web': 1,\n",
       " 'development,': 1,\n",
       " 'and': 1,\n",
       " 'automation.': 1}"
      ]
     },
     "execution_count": 4,
     "metadata": {},
     "output_type": "execute_result"
    }
   ],
   "source": [
    "# Define a multiline string containing the text to be analyzed\n",
    "new_word = \"\"\"\n",
    "Python is an amazing programming language. Python allows developers to solve problems quickly. \n",
    "It is widely used in data science, web development, and automation.\n",
    "\"\"\".split()  # Split the text into a list of words\n",
    "\n",
    "# Initialize an empty dictionary to store the word counts\n",
    "word_count = {}\n",
    "\n",
    "# Iterate through each word in the list of words\n",
    "for word in new_word:\n",
    "    # Check if the word is already in the word_count dictionary\n",
    "    if word not in word_count.keys():\n",
    "        word_count[word] = 1  # If not, add it with a count of 1\n",
    "    else:\n",
    "        word_count[word] += 1  # If it is, increment the count by 1\n",
    "\n",
    "# The word_count dictionary now contains the counts of each word\n",
    "word_count\n"
   ]
  },
  {
   "cell_type": "code",
   "execution_count": 5,
   "id": "8fd54414-ca97-4c4c-87eb-f6ee4d232514",
   "metadata": {},
   "outputs": [
    {
     "data": {
      "text/plain": [
       "{'Python': 2,\n",
       " 'is': 2,\n",
       " 'an': 1,\n",
       " 'amazing': 1,\n",
       " 'programming': 1,\n",
       " 'language.': 1,\n",
       " 'allows': 1,\n",
       " 'developers': 1,\n",
       " 'to': 1,\n",
       " 'solve': 1,\n",
       " 'problems': 1,\n",
       " 'quickly.': 1,\n",
       " 'It': 1,\n",
       " 'widely': 1,\n",
       " 'used': 1,\n",
       " 'in': 1,\n",
       " 'data': 1,\n",
       " 'science,': 1,\n",
       " 'web': 1,\n",
       " 'development,': 1,\n",
       " 'and': 1,\n",
       " 'automation.': 1}"
      ]
     },
     "execution_count": 5,
     "metadata": {},
     "output_type": "execute_result"
    }
   ],
   "source": [
    "# Define a multiline string containing the text to be analyzed\n",
    "new_word = \"\"\"\n",
    "Python is an amazing programming language. Python allows developers to solve problems quickly. \n",
    "It is widely used in data science, web development, and automation.\n",
    "\"\"\".split()  # Split the text into a list of words\n",
    "\n",
    "# Initialize an empty dictionary to store the word counts\n",
    "word_count = {}\n",
    "\n",
    "# Iterate through each word in the list of words\n",
    "for word in new_word:\n",
    "    # Check if the word is already in the word_count dictionary\n",
    "    if word not in word_count:\n",
    "        word_count[word] = 1  # If not, add it with a count of 1\n",
    "    else:\n",
    "        word_count[word] += 1  # If it is, increment the count by 1\n",
    "\n",
    "# The word_count dictionary now contains the counts of each word\n",
    "word_count\n"
   ]
  },
  {
   "cell_type": "code",
   "execution_count": null,
   "id": "2e4d80b9-6f56-4fe0-985a-b6531312e6b0",
   "metadata": {},
   "outputs": [],
   "source": []
  }
 ],
 "metadata": {
  "kernelspec": {
   "display_name": "Python 3 (ipykernel)",
   "language": "python",
   "name": "python3"
  },
  "language_info": {
   "codemirror_mode": {
    "name": "ipython",
    "version": 3
   },
   "file_extension": ".py",
   "mimetype": "text/x-python",
   "name": "python",
   "nbconvert_exporter": "python",
   "pygments_lexer": "ipython3",
   "version": "3.12.4"
  }
 },
 "nbformat": 4,
 "nbformat_minor": 5
}
