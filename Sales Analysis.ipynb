{
 "cells": [
  {
   "cell_type": "markdown",
   "id": "b52743c4-65a2-441c-a1f1-fa90114e9e3e",
   "metadata": {},
   "source": [
    "### **Task**: Sales Data Analysis\n",
    "You are given a list of transactions from a store. Each transaction includes the following details:\n",
    "- **Transaction ID**\n",
    "- **Product**\n",
    "- **Quantity Sold**\n",
    "- **Price per Unit**\n",
    "- **Date**\n",
    "\n",
    "The goal is to analyze the sales data to answer the following questions:\n",
    "1. Calculate the total revenue for each product.\n",
    "2. Identify the product with the highest sales on a specific date.\n",
    "3. For each product, calculate the total revenue for each month.\n",
    "4. Generate a report showing the cumulative sales (revenue) over time for each product.\n",
    "\n",
    "### Example Data\n",
    "```python\n",
    "sales_data = [\n",
    "    {\"TransactionID\": 1, \"Product\": \"Laptop\", \"Quantity\": 2, \"Price\": 1000, \"Date\": \"2023-05-01\"},\n",
    "    {\"TransactionID\": 2, \"Product\": \"Smartphone\", \"Quantity\": 5, \"Price\": 600, \"Date\": \"2023-05-03\"},\n",
    "    {\"TransactionID\": 3, \"Product\": \"Headphones\", \"Quantity\": 10, \"Price\": 50, \"Date\": \"2023-06-10\"},\n",
    "    {\"TransactionID\": 4, \"Product\": \"Laptop\", \"Quantity\": 1, \"Price\": 1000, \"Date\": \"2023-06-12\"},\n",
    "    {\"TransactionID\": 5, \"Product\": \"Smartphone\", \"Quantity\": 3, \"Price\": 600, \"Date\": \"2023-07-01\"},\n",
    "]\n",
    "```\n",
    "\n",
    "### Tasks:\n",
    "1. **Total Revenue for Each Product**: Sum up the revenue for each product (Quantity * Price).\n",
    "2. **Highest Sales on Specific Date**: On a given date (for example, \"2023-05-03\"), find the product with the highest revenue.\n",
    "3. **Monthly Revenue per Product**: Calculate the total revenue for each product for each month (group by product and month).\n",
    "4. **Cumulative Sales Over Time**: Generate a cumulative sales report that shows how the revenue for each product increases over time.\n",
    "\n",
    "### Requirements:\n",
    "- Use Python lists and dictionaries to handle the data.\n",
    "- Use date manipulation to handle the time-based calculations (hint: the `datetime` module will be helpful).\n",
    "- Use loops, conditionals, and aggregation techniques (no external libraries like Pandas)."
   ]
  },
  {
   "cell_type": "code",
   "execution_count": 1,
   "id": "7e8b44a7-c2bb-45f5-8076-ab23e45e5b4c",
   "metadata": {},
   "outputs": [],
   "source": [
    "sales_data = [\n",
    "    {\"TransactionID\": 1, \"Product\": \"Laptop\", \"Quantity\": 2, \"Price\": 1000, \"Date\": \"2023-05-01\"},\n",
    "    {\"TransactionID\": 2, \"Product\": \"Smartphone\", \"Quantity\": 5, \"Price\": 600, \"Date\": \"2023-05-01\"},\n",
    "    {\"TransactionID\": 3, \"Product\": \"Headphones\", \"Quantity\": 10, \"Price\": 50, \"Date\": \"2023-05-03\"},\n",
    "    {\"TransactionID\": 4, \"Product\": \"Smartwatch\", \"Quantity\": 4, \"Price\": 300, \"Date\": \"2023-05-03\"},\n",
    "    {\"TransactionID\": 5, \"Product\": \"Laptop\", \"Quantity\": 1, \"Price\": 1000, \"Date\": \"2023-05-05\"},\n",
    "    {\"TransactionID\": 6, \"Product\": \"Smartphone\", \"Quantity\": 3, \"Price\": 600, \"Date\": \"2023-05-05\"},\n",
    "    {\"TransactionID\": 7, \"Product\": \"Headphones\", \"Quantity\": 15, \"Price\": 45, \"Date\": \"2023-06-10\"},\n",
    "    {\"TransactionID\": 8, \"Product\": \"Smartwatch\", \"Quantity\": 2, \"Price\": 350, \"Date\": \"2023-06-10\"},\n",
    "    {\"TransactionID\": 9, \"Product\": \"Laptop\", \"Quantity\": 1, \"Price\": 950, \"Date\": \"2023-06-12\"},\n",
    "    {\"TransactionID\": 10, \"Product\": \"Smartphone\", \"Quantity\": 2, \"Price\": 580, \"Date\": \"2023-06-12\"},\n",
    "    {\"TransactionID\": 11, \"Product\": \"Laptop\", \"Quantity\": 3, \"Price\": 900, \"Date\": \"2023-06-15\"},\n",
    "    {\"TransactionID\": 12, \"Product\": \"Smartphone\", \"Quantity\": 4, \"Price\": 620, \"Date\": \"2023-07-01\"},\n",
    "    {\"TransactionID\": 13, \"Product\": \"Headphones\", \"Quantity\": 8, \"Price\": 55, \"Date\": \"2023-07-01\"},\n",
    "    {\"TransactionID\": 14, \"Product\": \"Smartwatch\", \"Quantity\": 6, \"Price\": 320, \"Date\": \"2023-07-01\"},\n",
    "    {\"TransactionID\": 15, \"Product\": \"Smartphone\", \"Quantity\": 5, \"Price\": 600, \"Date\": \"2023-07-05\"},\n",
    "    {\"TransactionID\": 16, \"Product\": \"Headphones\", \"Quantity\": 12, \"Price\": 50, \"Date\": \"2023-07-05\"},\n",
    "    {\"TransactionID\": 17, \"Product\": \"Laptop\", \"Quantity\": 1, \"Price\": 980, \"Date\": \"2023-07-10\"},\n",
    "    {\"TransactionID\": 18, \"Product\": \"Smartwatch\", \"Quantity\": 3, \"Price\": 340, \"Date\": \"2023-07-10\"}\n",
    "]"
   ]
  },
  {
   "cell_type": "code",
   "execution_count": 2,
   "id": "95bf65ad-91a5-48b2-a9dd-29c2c3a7d50d",
   "metadata": {},
   "outputs": [
    {
     "name": "stdout",
     "output_type": "stream",
     "text": [
      "Laptop - 7630\n",
      "Smartphone - 11440\n",
      "Headphones - 2215\n",
      "Smartwatch - 4840\n"
     ]
    }
   ],
   "source": [
    "#Total Revenue for Each Product: Sum up the revenue for each product (Quantity * Price).\n",
    "product_list = []\n",
    "revenue_list = []\n",
    "for transaction in sales_data:\n",
    "    product = transaction['Product']\n",
    "    if product not in product_list:\n",
    "        product_list.append(product)\n",
    "\n",
    "    revenue = 0\n",
    "    for transaction in sales_data:\n",
    "        if product == transaction['Product']:\n",
    "            revenue += transaction['Price'] * transaction['Quantity']\n",
    "    revenue_list.append(revenue)\n",
    "\n",
    "for prod, rev in zip(product_list, revenue_list):\n",
    "    print(f'{prod} - {rev}')"
   ]
  },
  {
   "cell_type": "code",
   "execution_count": 3,
   "id": "eebb8b18-0f18-4b8d-beea-4617b7e39311",
   "metadata": {},
   "outputs": [
    {
     "name": "stdout",
     "output_type": "stream",
     "text": [
      "Laptop - 7630\n",
      "Smartphone - 11440\n",
      "Headphones - 2215\n",
      "Smartwatch - 4840\n"
     ]
    }
   ],
   "source": [
    "#Correction\n",
    "product_revenue = {}\n",
    "\n",
    "# Single pass to calculate revenue for each product\n",
    "for transaction in sales_data:\n",
    "    product = transaction['Product']\n",
    "    if product not in product_revenue:\n",
    "        product_revenue[product] = 0\n",
    "    product_revenue[product] += transaction['Price'] * transaction['Quantity']\n",
    "\n",
    "# Print results\n",
    "for product, revenue in product_revenue.items():\n",
    "    print(f'{product} - {revenue}')\n"
   ]
  },
  {
   "cell_type": "code",
   "execution_count": 4,
   "id": "9af65413-f4ed-48b4-9960-fabc44b412ec",
   "metadata": {},
   "outputs": [
    {
     "name": "stdout",
     "output_type": "stream",
     "text": [
      "2023-05-01 - Laptop - 2000\n",
      "2023-05-03 - Headphones - 500\n",
      "2023-05-05 - Laptop - 1000\n",
      "2023-06-10 - Headphones - 675\n",
      "2023-06-12 - Laptop - 950\n",
      "2023-06-15 - Laptop - 2700\n",
      "2023-07-01 - Smartphone - 2480\n",
      "2023-07-05 - Smartphone - 3000\n",
      "2023-07-10 - Laptop - 980\n"
     ]
    }
   ],
   "source": [
    "#Highest Sales on Specific Date: On a given date (for example, \"2023-05-03\"), find the product with the highest revenue.\n",
    "from datetime import datetime\n",
    "date_list = []\n",
    "max_revenue = []\n",
    "product_list = []\n",
    "\n",
    "for transaction in sales_data:\n",
    "    date = transaction['Date']\n",
    "    if date not in date_list:\n",
    "        date_list.append(date)\n",
    "        product_list.append(transaction['Product'])\n",
    "        \n",
    "        revenue_list = [transaction['Price'] * transaction['Quantity'] for sales in transaction if date == transaction['Date']]\n",
    "        max_revenue.append(max(revenue_list))                \n",
    "        revenue_list = []\n",
    "\n",
    "for date, prod, rev in zip(date_list, product_list, max_revenue):\n",
    "    print(f'{date} - {prod} - {rev}')"
   ]
  },
  {
   "cell_type": "code",
   "execution_count": 5,
   "id": "921883f2-7546-4238-bd20-d3ca8eb30e88",
   "metadata": {},
   "outputs": [
    {
     "name": "stdout",
     "output_type": "stream",
     "text": [
      "Highest revenue on 2023-05-03: Smartwatch - 1200\n"
     ]
    }
   ],
   "source": [
    "#Correction\n",
    "# Given date for which we need to find the product with highest revenue\n",
    "specific_date = \"2023-05-03\"\n",
    "\n",
    "max_revenue = 0\n",
    "top_product = None\n",
    "\n",
    "# Loop through transactions to find the product with the highest revenue on the specific date\n",
    "for transaction in sales_data:\n",
    "    date = transaction['Date']\n",
    "    \n",
    "    if date == specific_date:\n",
    "        revenue = transaction['Price'] * transaction['Quantity']\n",
    "        \n",
    "        # Update the product if this transaction's revenue is higher than the current max revenue\n",
    "        if revenue > max_revenue:\n",
    "            max_revenue = revenue\n",
    "            top_product = transaction['Product']\n",
    "\n",
    "# Print result\n",
    "if top_product:\n",
    "    print(f'Highest revenue on {specific_date}: {top_product} - {max_revenue}')\n",
    "else:\n",
    "    print(f'No sales on {specific_date}')"
   ]
  },
  {
   "cell_type": "code",
   "execution_count": 6,
   "id": "e1f5a968-7222-41f3-ba30-b17bd2fc9254",
   "metadata": {},
   "outputs": [
    {
     "name": "stdout",
     "output_type": "stream",
     "text": [
      "May - Laptop - 3000\n",
      "May - Smartphone - 4800\n",
      "May - Headphones - 500\n",
      "May - Smartwatch - 1200\n",
      "June - Headphones - 675\n",
      "June - Smartwatch - 700\n",
      "June - Laptop - 3650\n",
      "June - Smartphone - 1160\n",
      "July - Smartphone - 5480\n",
      "July - Headphones - 1040\n",
      "July - Smartwatch - 2940\n",
      "July - Laptop - 980\n"
     ]
    }
   ],
   "source": [
    "#Monthly Revenue per Product: Calculate the total revenue for each product for each month (group by product and month).\n",
    "month_revenue = []\n",
    "product_list = []\n",
    "product_month = []\n",
    "price_list = []\n",
    "\n",
    "for transaction in sales_data:\n",
    "    date = transaction['Date']\n",
    "    month_name = datetime.strptime(date, \"%Y-%m-%d\").strftime(\"%B\")\n",
    "    product = transaction['Product']\n",
    "    \n",
    "    if month_name+\" \"+product not in product_month:\n",
    "        product_month.append(month_name+\" \"+product)        \n",
    "        revenue = sum([t['Price'] * t['Quantity'] for t in sales_data \n",
    "                       if t['Product'] == product and datetime.strptime(t['Date'], \"%Y-%m-%d\").strftime(\"%B\") == month_name])\n",
    "        price_list.append(revenue)\n",
    "        \n",
    "        \n",
    "for product_and_month, price in zip(product_month, price_list):\n",
    "    print(f'{product_and_month.split()[0]} - {product_and_month.split()[1]} - {price}')\n"
   ]
  },
  {
   "cell_type": "code",
   "execution_count": 7,
   "id": "db5f3cc8-ffc1-4837-937a-c07b9910a5d6",
   "metadata": {},
   "outputs": [
    {
     "name": "stdout",
     "output_type": "stream",
     "text": [
      "May - Laptop - 3000\n",
      "May - Smartphone - 4800\n",
      "May - Headphones - 500\n",
      "May - Smartwatch - 1200\n",
      "June - Headphones - 675\n",
      "June - Smartwatch - 700\n",
      "June - Laptop - 3650\n",
      "June - Smartphone - 1160\n",
      "July - Smartphone - 5480\n",
      "July - Headphones - 1040\n",
      "July - Smartwatch - 2940\n",
      "July - Laptop - 980\n"
     ]
    }
   ],
   "source": [
    "#Correction\n",
    "from datetime import datetime\n",
    "\n",
    "# Dictionary to store revenue for each (product, month) pair\n",
    "product_month_revenue = {}\n",
    "\n",
    "# Iterate through transactions\n",
    "for transaction in sales_data:\n",
    "    date = transaction['Date']\n",
    "    month_name = datetime.strptime(date, \"%Y-%m-%d\").strftime(\"%B\")\n",
    "    product = transaction['Product']\n",
    "    \n",
    "    # Create a key based on product and month\n",
    "    product_month_key = (product, month_name)\n",
    "    \n",
    "    # Accumulate revenue in the dictionary\n",
    "    if product_month_key not in product_month_revenue:\n",
    "        product_month_revenue[product_month_key] = 0\n",
    "    product_month_revenue[product_month_key] += transaction['Price'] * transaction['Quantity']\n",
    "\n",
    "# Print the results\n",
    "for (product, month), revenue in product_month_revenue.items():\n",
    "    print(f'{month} - {product} - {revenue}')\n"
   ]
  },
  {
   "cell_type": "code",
   "execution_count": 8,
   "id": "6c519c73-0251-4de1-b82c-446db8ae4549",
   "metadata": {},
   "outputs": [
    {
     "name": "stdout",
     "output_type": "stream",
     "text": [
      "2023-05-01 - Laptop - 1000 - 2 - 2000\n",
      "2023-05-01 - Laptop - 1000 - 1 - 3000\n",
      "2023-05-01 - Laptop - 950 - 1 - 3950\n",
      "2023-05-01 - Laptop - 900 - 3 - 6650\n",
      "2023-05-01 - Laptop - 980 - 1 - 7630\n",
      "2023-05-01 - Smartphone - 600 - 5 - 3000\n",
      "2023-05-01 - Smartphone - 600 - 3 - 4800\n",
      "2023-05-01 - Smartphone - 580 - 2 - 5960\n",
      "2023-05-01 - Smartphone - 620 - 4 - 8440\n",
      "2023-05-01 - Smartphone - 600 - 5 - 11440\n",
      "2023-05-03 - Headphones - 50 - 10 - 500\n",
      "2023-05-03 - Headphones - 45 - 15 - 1175\n",
      "2023-05-03 - Headphones - 55 - 8 - 1615\n",
      "2023-05-03 - Headphones - 50 - 12 - 2215\n",
      "2023-05-03 - Smartwatch - 300 - 4 - 1200\n",
      "2023-05-03 - Smartwatch - 350 - 2 - 1900\n",
      "2023-05-03 - Smartwatch - 320 - 6 - 3820\n",
      "2023-05-03 - Smartwatch - 340 - 3 - 4840\n"
     ]
    }
   ],
   "source": [
    "#Cumulative Sales Over Time: Generate a cumulative sales report that shows how the revenue for each product increases over time.\n",
    "product_list = []\n",
    "product_month = []\n",
    "price_list = []\n",
    "\n",
    "for transaction in sales_data:\n",
    "    date = transaction['Date']\n",
    "\n",
    "    product = transaction['Product']\n",
    "    \n",
    "    if product not in product_list:\n",
    "        product_list.append(product)\n",
    "        revenue = 0\n",
    "        for t in sales_data:\n",
    "            if t['Product'] == product:\n",
    "                revenue += t['Price'] * t['Quantity']\n",
    "                print(f'{date} - {product} - {t['Price']} - {t['Quantity']} - {revenue}')\n",
    "        \n",
    "        "
   ]
  },
  {
   "cell_type": "code",
   "execution_count": 9,
   "id": "483a9514-8695-42fd-b8fc-4149d4372cff",
   "metadata": {},
   "outputs": [
    {
     "name": "stdout",
     "output_type": "stream",
     "text": [
      "2023-05-01 - Laptop - Price: 1000 - Quantity: 2 - Cumulative Revenue: 2000\n",
      "2023-05-01 - Smartphone - Price: 600 - Quantity: 5 - Cumulative Revenue: 3000\n",
      "2023-05-03 - Headphones - Price: 50 - Quantity: 10 - Cumulative Revenue: 500\n",
      "2023-05-03 - Smartwatch - Price: 300 - Quantity: 4 - Cumulative Revenue: 1200\n",
      "2023-05-05 - Laptop - Price: 1000 - Quantity: 1 - Cumulative Revenue: 3000\n",
      "2023-05-05 - Smartphone - Price: 600 - Quantity: 3 - Cumulative Revenue: 4800\n",
      "2023-06-10 - Headphones - Price: 45 - Quantity: 15 - Cumulative Revenue: 1175\n",
      "2023-06-10 - Smartwatch - Price: 350 - Quantity: 2 - Cumulative Revenue: 1900\n",
      "2023-06-12 - Laptop - Price: 950 - Quantity: 1 - Cumulative Revenue: 3950\n",
      "2023-06-12 - Smartphone - Price: 580 - Quantity: 2 - Cumulative Revenue: 5960\n",
      "2023-06-15 - Laptop - Price: 900 - Quantity: 3 - Cumulative Revenue: 6650\n",
      "2023-07-01 - Smartphone - Price: 620 - Quantity: 4 - Cumulative Revenue: 8440\n",
      "2023-07-01 - Headphones - Price: 55 - Quantity: 8 - Cumulative Revenue: 1615\n",
      "2023-07-01 - Smartwatch - Price: 320 - Quantity: 6 - Cumulative Revenue: 3820\n",
      "2023-07-05 - Smartphone - Price: 600 - Quantity: 5 - Cumulative Revenue: 11440\n",
      "2023-07-05 - Headphones - Price: 50 - Quantity: 12 - Cumulative Revenue: 2215\n",
      "2023-07-10 - Laptop - Price: 980 - Quantity: 1 - Cumulative Revenue: 7630\n",
      "2023-07-10 - Smartwatch - Price: 340 - Quantity: 3 - Cumulative Revenue: 4840\n"
     ]
    }
   ],
   "source": [
    "#Correction\n",
    "from datetime import datetime\n",
    "\n",
    "# Sort sales_data by date to ensure cumulative growth is calculated in order\n",
    "sales_data_sorted = sorted(sales_data, key=lambda x: x['Date'])\n",
    "\n",
    "# Dictionary to store cumulative revenue for each product\n",
    "cumulative_revenue = {}\n",
    "\n",
    "# Iterate through sorted transactions\n",
    "for transaction in sales_data_sorted:\n",
    "    date = transaction['Date']\n",
    "    product = transaction['Product']\n",
    "    price = transaction['Price']\n",
    "    quantity = transaction['Quantity']\n",
    "    revenue = price * quantity\n",
    "    \n",
    "    # Initialize cumulative revenue for the product if not already in the dictionary\n",
    "    if product not in cumulative_revenue:\n",
    "        cumulative_revenue[product] = 0\n",
    "    \n",
    "    # Add current transaction's revenue to the cumulative revenue\n",
    "    cumulative_revenue[product] += revenue\n",
    "    \n",
    "    # Print cumulative sales for the product on that date\n",
    "    print(f'{date} - {product} - Price: {price} - Quantity: {quantity} - Cumulative Revenue: {cumulative_revenue[product]}')\n"
   ]
  },
  {
   "cell_type": "code",
   "execution_count": null,
   "id": "efacc6a9-8550-47e6-92a7-74c425db8f8e",
   "metadata": {},
   "outputs": [],
   "source": []
  }
 ],
 "metadata": {
  "kernelspec": {
   "display_name": "Python 3 (ipykernel)",
   "language": "python",
   "name": "python3"
  },
  "language_info": {
   "codemirror_mode": {
    "name": "ipython",
    "version": 3
   },
   "file_extension": ".py",
   "mimetype": "text/x-python",
   "name": "python",
   "nbconvert_exporter": "python",
   "pygments_lexer": "ipython3",
   "version": "3.12.4"
  }
 },
 "nbformat": 4,
 "nbformat_minor": 5
}
