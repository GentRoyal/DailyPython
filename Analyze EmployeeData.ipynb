{
 "cells": [
  {
   "cell_type": "markdown",
   "id": "505022ce-b16e-4cfd-8fba-2f20435cf7c0",
   "metadata": {},
   "source": [
    "### Task: Analyze Employee Data\n",
    "\n",
    "#### Objective:\n",
    "Write a Python script that analyzes employee data to find out the following:\n",
    "1. The total number of employees in each department.\n",
    "2. The average salary of employees in each department.\n",
    "3. The employee with the highest salary in each department.\n",
    "\n",
    "#### Dataset:\n",
    "You can create a dataset with the following columns: `EmployeeID`, `EmployeeName`, `Department`, and `Salary`.\n",
    "\n",
    "### Steps to Complete:\n",
    "1. Load the dataset into a suitable data structure (e.g., a list of dictionaries).\n",
    "2. Use Python’s built-in functionalities or libraries like `pandas` to perform the following:\n",
    "   - Count the number of employees in each department.\n",
    "   - Calculate the average salary of employees in each department.\n",
    "   - Identify the employee with the highest salary in each department.\n",
    "3. Print the results in a clear format."
   ]
  },
  {
   "cell_type": "code",
   "execution_count": 7,
   "id": "b15472e2-3b4a-48ec-8145-4eea7a2fad00",
   "metadata": {},
   "outputs": [],
   "source": [
    "employee_data = [\n",
    "    {\"EmployeeID\": 1, \"EmployeeName\": \"Alice\", \"Department\": \"HR\", \"Salary\": 60000},\n",
    "    {\"EmployeeID\": 2, \"EmployeeName\": \"Bob\", \"Department\": \"HR\", \"Salary\": 70000},\n",
    "    {\"EmployeeID\": 3, \"EmployeeName\": \"Charlie\", \"Department\": \"IT\", \"Salary\": 80000},\n",
    "    {\"EmployeeID\": 4, \"EmployeeName\": \"David\", \"Department\": \"IT\", \"Salary\": 90000},\n",
    "    {\"EmployeeID\": 5, \"EmployeeName\": \"Eva\", \"Department\": \"Finance\", \"Salary\": 75000},\n",
    "    {\"EmployeeID\": 6, \"EmployeeName\": \"Frank\", \"Department\": \"Finance\", \"Salary\": 85000},\n",
    "    {\"EmployeeID\": 7, \"EmployeeName\": \"Grace\", \"Department\": \"Marketing\", \"Salary\": 55000},\n",
    "    {\"EmployeeID\": 8, \"EmployeeName\": \"Hannah\", \"Department\": \"Marketing\", \"Salary\": 60000},\n",
    "    {\"EmployeeID\": 9, \"EmployeeName\": \"Ian\", \"Department\": \"IT\", \"Salary\": 95000},\n",
    "    {\"EmployeeID\": 10, \"EmployeeName\": \"Judy\", \"Department\": \"HR\", \"Salary\": 72000},\n",
    "    {\"EmployeeID\": 11, \"EmployeeName\": \"Kevin\", \"Department\": \"Finance\", \"Salary\": 95000},\n",
    "    {\"EmployeeID\": 12, \"EmployeeName\": \"Laura\", \"Department\": \"HR\", \"Salary\": 68000},\n",
    "    {\"EmployeeID\": 13, \"EmployeeName\": \"Mike\", \"Department\": \"IT\", \"Salary\": 84000},\n",
    "    {\"EmployeeID\": 14, \"EmployeeName\": \"Nina\", \"Department\": \"Marketing\", \"Salary\": 57000},\n",
    "    {\"EmployeeID\": 15, \"EmployeeName\": \"Oscar\", \"Department\": \"Finance\", \"Salary\": 78000},\n",
    "    {\"EmployeeID\": 16, \"EmployeeName\": \"Paul\", \"Department\": \"IT\", \"Salary\": 99000},\n",
    "    {\"EmployeeID\": 17, \"EmployeeName\": \"Quinn\", \"Department\": \"HR\", \"Salary\": 71000},\n",
    "    {\"EmployeeID\": 18, \"EmployeeName\": \"Rick\", \"Department\": \"Marketing\", \"Salary\": 64000},\n",
    "    {\"EmployeeID\": 19, \"EmployeeName\": \"Sophie\", \"Department\": \"Finance\", \"Salary\": 83000},\n",
    "    {\"EmployeeID\": 20, \"EmployeeName\": \"Tom\", \"Department\": \"IT\", \"Salary\": 88000},\n",
    "]\n"
   ]
  },
  {
   "cell_type": "code",
   "execution_count": 8,
   "id": "3ac5e704-8b48-479e-9d35-34f14ad887eb",
   "metadata": {},
   "outputs": [
    {
     "data": {
      "text/plain": [
       "{'HR': 5, 'IT': 6, 'Finance': 5, 'Marketing': 4}"
      ]
     },
     "execution_count": 8,
     "metadata": {},
     "output_type": "execute_result"
    }
   ],
   "source": [
    "#Task 1: The total number of employees in each departmen\n",
    "employee_departments = {} #Initialize dictionary\n",
    "for employee in employee_data: #Iterate through the employee data\n",
    "    department = employee[\"Department\"] #Get the department of an employee\n",
    "\n",
    "    if department not in employee_departments: #Check if the department has not been counted\n",
    "        employee_departments[department] =  0 #If true, initalize count to 0\n",
    "\n",
    "    employee_departments[department] +=  1 #Increment count by 1\n",
    "\n",
    "employee_departments #Print "
   ]
  },
  {
   "cell_type": "code",
   "execution_count": null,
   "id": "1dd06c23-915e-4c8e-be5e-b2c29c21922e",
   "metadata": {},
   "outputs": [],
   "source": []
  }
 ],
 "metadata": {
  "kernelspec": {
   "display_name": "Python 3 (ipykernel)",
   "language": "python",
   "name": "python3"
  },
  "language_info": {
   "codemirror_mode": {
    "name": "ipython",
    "version": 3
   },
   "file_extension": ".py",
   "mimetype": "text/x-python",
   "name": "python",
   "nbconvert_exporter": "python",
   "pygments_lexer": "ipython3",
   "version": "3.12.4"
  }
 },
 "nbformat": 4,
 "nbformat_minor": 5
}
