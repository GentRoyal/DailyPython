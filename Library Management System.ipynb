{
 "cells": [
  {
   "cell_type": "code",
   "execution_count": 1,
   "id": "4f0b7169-8a02-4e31-8e9c-30182d679f5e",
   "metadata": {},
   "outputs": [
    {
     "name": "stdout",
     "output_type": "stream",
     "text": [
      "Classroom Students:\n",
      "Alice, aged 20 with a grade of 85 has been added successfully\n",
      "Bob, aged 21 with a grade of 78 has been added successfully\n",
      "Charlie, aged 19 with a grade of 92 has been added successfully\n",
      "\n",
      "Average Grade: 85.00\n"
     ]
    }
   ],
   "source": [
    "class Student():\n",
    "    def __init__(self, name, age, grade):\n",
    "        self.name = name\n",
    "        self.age = age\n",
    "        self.grade = grade\n",
    "\n",
    "    def get_details(self):\n",
    "        return f'{self.name}, aged {self.age} with a grade of {self.grade} has been added successfully'\n",
    "        \n",
    "# Step 2: Define the Classroom class\n",
    "class Classroom:\n",
    "    def __init__(self):\n",
    "        self.students = []  # Empty list to store students\n",
    "    \n",
    "    def add_student(self, student):\n",
    "        self.students.append(student)\n",
    "    \n",
    "    def get_average_grade(self):\n",
    "        total = sum(student.grade for student in self.students)\n",
    "        return total / len(self.students) if self.students else 0\n",
    "    \n",
    "    def show_students(self):\n",
    "        for student in self.students:\n",
    "            print(student.get_details())\n",
    "\n",
    "# Step 3: Create instances of students and manage them in the Classroom\n",
    "student1 = Student(\"Alice\", 20, 85)\n",
    "student2 = Student(\"Bob\", 21, 78)\n",
    "student3 = Student(\"Charlie\", 19, 92)\n",
    "\n",
    "# Create a Classroom object and add students\n",
    "classroom = Classroom()\n",
    "classroom.add_student(student1)\n",
    "classroom.add_student(student2)\n",
    "classroom.add_student(student3)\n",
    "\n",
    "# Display all students\n",
    "print(\"Classroom Students:\")\n",
    "classroom.show_students()\n",
    "\n",
    "# Display average grade\n",
    "print(f\"\\nAverage Grade: {classroom.get_average_grade():.2f}\")\n"
   ]
  },
  {
   "cell_type": "markdown",
   "id": "8f19b190-0062-4d92-91a1-8bdc7fa1f482",
   "metadata": {},
   "source": [
    "Here’s your task on Classes and Objects in Python:\n",
    "\n",
    "### Task: Create a Simple Library Management System\n",
    "\n",
    "1. **Define a Class for Books:**\n",
    "   - Create a class called `Book`.\n",
    "   - Include attributes for the book title, author, and ISBN.\n",
    "   - Add a method to display the book details.\n",
    "\n",
    "2. **Define a Class for Library:**\n",
    "   - Create a class called `Library`.\n",
    "   - Include an attribute to store a list of `Book` objects.\n",
    "   - Add methods to:\n",
    "     - Add a book to the library.\n",
    "     - Remove a book from the library by its ISBN.\n",
    "     - Search for a book by title or author.\n",
    "     - Display all the books in the library.\n",
    "\n",
    "3. **Create Instances:**\n",
    "   - Create a few instances of `Book` with sample data.\n",
    "   - Create an instance of `Library` and add the books to it.\n",
    "\n",
    "4. **Demonstrate Functionality:**\n",
    "   - Show how to add and remove books from the library.\n",
    "   - Search for a book by title or author and display the results.\n",
    "   - Display all the books in the library.\n",
    "\n",
    "5. **Bonus:**\n",
    "   - Add error handling for cases like trying to remove a book that doesn't exist.\n",
    "\n",
    "Feel free to ask for clarification or help on any part of the task!"
   ]
  },
  {
   "cell_type": "code",
   "execution_count": 2,
   "id": "9b312677-6376-4273-bf0d-a35e499d3135",
   "metadata": {},
   "outputs": [],
   "source": [
    "class Book():\n",
    "    def __init__(self, title, author, ISBN):\n",
    "        self.title = title\n",
    "        self.author = author\n",
    "        self.ISBN = ISBN\n",
    "\n",
    "    def display_details(self):\n",
    "        return f'{self.title} authored by {self.author} wih ISBN {self.ISBN}'\n",
    "\n",
    "    def no_result(self):\n",
    "        return f'{self.title} authored by {self.author} wih ISBN {self.ISBN} not found'\n",
    "\n",
    "class Library():\n",
    "    def __init__(self):\n",
    "        self.books = []\n",
    "\n",
    "    def add_book(self, book):\n",
    "        self.books.append(book)\n",
    "\n",
    "    def remove_book(self, book):\n",
    "        if book in self.books:\n",
    "            self.books.remove(book)\n",
    "    def search_books(self, book):\n",
    "        if book in self.books:\n",
    "            print(book.display_details())\n",
    "        else:\n",
    "            print(book.no_result())\n",
    "    def display_books(self):\n",
    "        for book in self.books:\n",
    "            print(book.display_details())\n"
   ]
  },
  {
   "cell_type": "code",
   "execution_count": 3,
   "id": "157953e5-c3c1-4531-8c4e-dba0482472a1",
   "metadata": {},
   "outputs": [
    {
     "data": {
      "text/plain": [
       "'The Great Gatsby authored by F. Scott Fitzgerald wih ISBN 9780743273565'"
      ]
     },
     "execution_count": 3,
     "metadata": {},
     "output_type": "execute_result"
    }
   ],
   "source": [
    "book1 = Book(\"The Great Gatsby\", \"F. Scott Fitzgerald\", \"9780743273565\")\n",
    "book1.display_details()"
   ]
  },
  {
   "cell_type": "code",
   "execution_count": 4,
   "id": "7482201e-bdf8-4c83-b641-e01c77f4da98",
   "metadata": {},
   "outputs": [
    {
     "data": {
      "text/plain": [
       "'1984 authored by George Orwell wih ISBN 9780451524935'"
      ]
     },
     "execution_count": 4,
     "metadata": {},
     "output_type": "execute_result"
    }
   ],
   "source": [
    "book2 = Book(\"1984\", \"George Orwell\", \"9780451524935\")\n",
    "book2.display_details()"
   ]
  },
  {
   "cell_type": "code",
   "execution_count": 5,
   "id": "e8e76a01-bf3e-4cf5-b5a2-1ee551ac8fbe",
   "metadata": {},
   "outputs": [
    {
     "data": {
      "text/plain": [
       "'To Kill a Mockingbird authored by Harper Lee wih ISBN 9780061120084'"
      ]
     },
     "execution_count": 5,
     "metadata": {},
     "output_type": "execute_result"
    }
   ],
   "source": [
    "book3 = Book(\"To Kill a Mockingbird\", \"Harper Lee\", \"9780061120084\")\n",
    "book3.display_details()"
   ]
  },
  {
   "cell_type": "code",
   "execution_count": 6,
   "id": "0f73fa68-2210-4adb-af91-3c684181dabe",
   "metadata": {},
   "outputs": [],
   "source": [
    "my_library = Library()\n",
    "my_library.add_book(book1)\n",
    "my_library.add_book(book2)\n",
    "my_library.add_book(book3)"
   ]
  },
  {
   "cell_type": "code",
   "execution_count": 7,
   "id": "4299335b-8867-4459-8ad2-c9eb155cf897",
   "metadata": {},
   "outputs": [
    {
     "name": "stdout",
     "output_type": "stream",
     "text": [
      "The Great Gatsby authored by F. Scott Fitzgerald wih ISBN 9780743273565\n",
      "1984 authored by George Orwell wih ISBN 9780451524935\n",
      "To Kill a Mockingbird authored by Harper Lee wih ISBN 9780061120084\n"
     ]
    }
   ],
   "source": [
    "my_library.display_books()"
   ]
  },
  {
   "cell_type": "code",
   "execution_count": 8,
   "id": "876abe08-a2a3-4df5-b30d-430a9efed97c",
   "metadata": {},
   "outputs": [
    {
     "name": "stdout",
     "output_type": "stream",
     "text": [
      "The Great Gatsby authored by F. Scott Fitzgerald wih ISBN 9780743273565\n"
     ]
    }
   ],
   "source": [
    "my_library.search_books(book1)"
   ]
  },
  {
   "cell_type": "code",
   "execution_count": 9,
   "id": "63661273-f73c-413b-8cee-db72c2c8b3ba",
   "metadata": {},
   "outputs": [
    {
     "data": {
      "text/plain": [
       "'Notebook authored by Yusuf Ridwan wih ISBN 7378883yhsh'"
      ]
     },
     "execution_count": 9,
     "metadata": {},
     "output_type": "execute_result"
    }
   ],
   "source": [
    "book4 = Book(\"Notebook\", \"Yusuf Ridwan\", \"7378883yhsh\")\n",
    "book4.display_details()"
   ]
  },
  {
   "cell_type": "code",
   "execution_count": 10,
   "id": "8a7c8e4b-770c-412e-b012-88aee8b398fe",
   "metadata": {},
   "outputs": [
    {
     "name": "stdout",
     "output_type": "stream",
     "text": [
      "Notebook authored by Yusuf Ridwan wih ISBN 7378883yhsh not found\n"
     ]
    }
   ],
   "source": [
    "my_library.search_books(book4)"
   ]
  },
  {
   "cell_type": "code",
   "execution_count": 11,
   "id": "6ed28064-53fb-45ff-8130-1601bee28365",
   "metadata": {},
   "outputs": [],
   "source": [
    "my_library.add_book(book4)"
   ]
  },
  {
   "cell_type": "code",
   "execution_count": 12,
   "id": "12163ddf-92ee-45ba-b65b-6cdc3056bacc",
   "metadata": {},
   "outputs": [
    {
     "name": "stdout",
     "output_type": "stream",
     "text": [
      "Notebook authored by Yusuf Ridwan wih ISBN 7378883yhsh\n"
     ]
    }
   ],
   "source": [
    "my_library.search_books(book4)"
   ]
  },
  {
   "cell_type": "code",
   "execution_count": 13,
   "id": "81cf669f-4ff4-4f87-9015-0f1be6b4ef3a",
   "metadata": {},
   "outputs": [],
   "source": [
    "my_library.remove_book(book4)"
   ]
  },
  {
   "cell_type": "code",
   "execution_count": 14,
   "id": "c5952d41-4cc9-4d39-9f37-a96efed61dff",
   "metadata": {},
   "outputs": [
    {
     "name": "stdout",
     "output_type": "stream",
     "text": [
      "Notebook authored by Yusuf Ridwan wih ISBN 7378883yhsh not found\n"
     ]
    }
   ],
   "source": [
    "my_library.search_books(book4)"
   ]
  },
  {
   "cell_type": "code",
   "execution_count": 15,
   "id": "43323523-b5ea-4da1-87a8-931a766871c4",
   "metadata": {},
   "outputs": [
    {
     "name": "stdout",
     "output_type": "stream",
     "text": [
      "The Great Gatsby authored by F. Scott Fitzgerald wih ISBN 9780743273565\n",
      "1984 authored by George Orwell wih ISBN 9780451524935\n",
      "The Great Gatsby authored by F. Scott Fitzgerald wih ISBN 9780743273565\n",
      "Unknown Title authored by Unknown Author wih ISBN 0000000000 not found\n"
     ]
    }
   ],
   "source": [
    "# Creating book instances\n",
    "book1 = Book(\"The Great Gatsby\", \"F. Scott Fitzgerald\", \"9780743273565\")\n",
    "book2 = Book(\"1984\", \"George Orwell\", \"9780451524935\")\n",
    "\n",
    "# Creating a library instance and adding books\n",
    "library = Library()\n",
    "library.add_book(book1)\n",
    "library.add_book(book2)\n",
    "\n",
    "# Displaying books in the library\n",
    "library.display_books()\n",
    "\n",
    "# Searching for a book\n",
    "library.search_books(book1)  # Should print details\n",
    "library.search_books(Book(\"Unknown Title\", \"Unknown Author\", \"0000000000\"))  # Should indicate not found"
   ]
  },
  {
   "cell_type": "code",
   "execution_count": 17,
   "id": "2b14ec69-3370-4565-b5d4-5854d91c8de1",
   "metadata": {},
   "outputs": [],
   "source": [
    "class Book():\n",
    "    def __init__(self, title, author, ISBN):\n",
    "        self.title = title\n",
    "        self.author = author\n",
    "        self.ISBN = ISBN\n",
    "\n",
    "    def display_details(self):\n",
    "        return f'{self.title} authored by {self.author} with ISBN {self.ISBN}'\n",
    "\n",
    "    def __str__(self):\n",
    "        # Return a string representation of the book object\n",
    "        return f'{self.title} authored by {self.author} with ISBN {self.ISBN} not found'\n",
    "\n",
    "class Library():\n",
    "    def __init__(self):\n",
    "        self.books = []\n",
    "\n",
    "    def add_book(self, book):\n",
    "        self.books.append(book)\n",
    "\n",
    "    def remove_book(self, book):\n",
    "        if book in self.books:\n",
    "            self.books.remove(book)\n",
    "\n",
    "    def search_books(self, book):\n",
    "        if book in self.books:\n",
    "            print(book)  # The __str__ method will automatically be called here\n",
    "\n",
    "    def display_books(self):\n",
    "        for book in self.books:\n",
    "            print(book)  # The __str__ method will automatically be called here\n",
    "\n",
    "    def __str__(self):\n",
    "        # Return a string representation of the library's books\n",
    "        if not self.books:\n",
    "            return 'No books in the library'\n",
    "        return '\\n'.join(str(book) for book in self.books)\n"
   ]
  },
  {
   "cell_type": "code",
   "execution_count": 18,
   "id": "d5d6a329-a760-4059-bf5f-438a695272f9",
   "metadata": {},
   "outputs": [
    {
     "name": "stdout",
     "output_type": "stream",
     "text": [
      "The Great Gatsby authored by F. Scott Fitzgerald with ISBN 9780743273565 not found\n",
      "1984 authored by George Orwell with ISBN 9780451524935 not found\n",
      "The Great Gatsby authored by F. Scott Fitzgerald with ISBN 9780743273565 not found\n"
     ]
    }
   ],
   "source": [
    "# Creating book instances\n",
    "book1 = Book(\"The Great Gatsby\", \"F. Scott Fitzgerald\", \"9780743273565\")\n",
    "book2 = Book(\"1984\", \"George Orwell\", \"9780451524935\")\n",
    "\n",
    "# Creating a library instance and adding books\n",
    "library = Library()\n",
    "library.add_book(book1)\n",
    "library.add_book(book2)\n",
    "\n",
    "# Displaying books in the library\n",
    "library.display_books()\n",
    "\n",
    "# Searching for a book\n",
    "library.search_books(book1)  # Should print details\n",
    "library.search_books(Book(\"Unknown Title\", \"Unknown Author\", \"0000000000\"))  # Should indicate not found"
   ]
  },
  {
   "cell_type": "code",
   "execution_count": null,
   "id": "ae87557c-3876-47bb-aebf-817fa3d4456f",
   "metadata": {},
   "outputs": [],
   "source": []
  }
 ],
 "metadata": {
  "kernelspec": {
   "display_name": "Python 3 (ipykernel)",
   "language": "python",
   "name": "python3"
  },
  "language_info": {
   "codemirror_mode": {
    "name": "ipython",
    "version": 3
   },
   "file_extension": ".py",
   "mimetype": "text/x-python",
   "name": "python",
   "nbconvert_exporter": "python",
   "pygments_lexer": "ipython3",
   "version": "3.12.4"
  }
 },
 "nbformat": 4,
 "nbformat_minor": 5
}
