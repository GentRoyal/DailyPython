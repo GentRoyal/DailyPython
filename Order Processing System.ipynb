{
 "cells": [
  {
   "cell_type": "markdown",
   "id": "dfe6f7cb-41b4-424f-8ec0-db2c0dd37158",
   "metadata": {},
   "source": [
    "### Challenge: **Order Processing System**\n",
    "\n",
    "You are tasked with building a small order processing system for a store. The system needs to manage orders placed by customers and calculate the total bill based on the products ordered. Each order can contain multiple items with quantities. \n",
    "\n",
    "#### Requirements:\n",
    "\n",
    "1. Create a class `Product` that represents a product in the store. The class should store:\n",
    "   - Product name\n",
    "   - Price per unit\n",
    "\n",
    "2. Create a class `OrderItem` that represents an item in an order. It should store:\n",
    "   - The `Product` object\n",
    "   - Quantity ordered for that product\n",
    "   - Method to calculate total price for that item\n",
    "\n",
    "3. Create a class `Order` that represents a customer order. The class should:\n",
    "   - Store a list of `OrderItem` objects\n",
    "   - Have a method to add an item to the order\n",
    "   - Have a method to calculate the total price of all items in the order\n",
    "   - Have a method to display all items and their quantities, along with the total order amount\n",
    "\n",
    "#### Additional Challenge:\n",
    "    - If the total order value exceeds $500, apply a 10% discount on the total amount.\n",
    "    - If the customer orders more than 5 different items, apply a $20 discount.\n",
    "\n",
    "### Test your code by:\n",
    "1. Creating a few `Product` objects.\n",
    "2. Creating an `Order` object, adding items, and calculating the total bill.\n",
    "\n",
    "---"
   ]
  },
  {
   "cell_type": "code",
   "execution_count": 37,
   "id": "e82a5a3f-78c6-46a9-817c-2700f9556b5a",
   "metadata": {},
   "outputs": [
    {
     "name": "stdout",
     "output_type": "stream",
     "text": [
      "The total price is $12.5\n"
     ]
    }
   ],
   "source": [
    "class Product:\n",
    "    def __init__(self, item, unit_price):\n",
    "        self.item = item\n",
    "        self.unit_price = unit_price\n",
    "\n",
    "class OrderItem(Product):\n",
    "    def __init__(self, item, unit_price, quantity):\n",
    "        super().__init__(item, unit_price)\n",
    "        self.quantity = quantity\n",
    "\n",
    "    def total_price(self):\n",
    "        return self.unit_price * self.quantity  # Return numerical value\n",
    "\n",
    "# Test example\n",
    "orderitem = OrderItem(\"Chocolate\", 2.5, 5)\n",
    "print(f'The total price is ${orderitem.total_price()}')  # Print formatted total price"
   ]
  },
  {
   "cell_type": "code",
   "execution_count": 46,
   "id": "55cef1ff-d4d5-42c0-a4b0-d779f125e2e1",
   "metadata": {},
   "outputs": [
    {
     "name": "stdout",
     "output_type": "stream",
     "text": [
      "Total order price: $512.5\n"
     ]
    }
   ],
   "source": [
    "class Order:\n",
    "    def __init__(self):\n",
    "        self.items = []  # Initialize with an empty list of order items\n",
    "\n",
    "    def add_item(self, item):\n",
    "        self.items.append(item)  # Add an OrderItem to the list\n",
    "\n",
    "    def total_price(self):\n",
    "        sum_price = 0\n",
    "        for item in self.items:  # Iterate over all OrderItems\n",
    "            sum_price += item.total_price()  # Sum their total prices\n",
    "        return sum_price\n",
    "\n",
    "# Example usage:\n",
    "\n",
    "# Create some order items\n",
    "item1 = OrderItem(\"Chocolate\", 2.5, 5)\n",
    "item2 = OrderItem(\"TV\", 500, 1)\n",
    "\n",
    "# Create an order\n",
    "order = Order()\n",
    "\n",
    "# Add items to the order\n",
    "order.add_item(item1)\n",
    "order.add_item(item2)\n",
    "\n",
    "# Check the total price of the order\n",
    "print(f'Total order price: ${order.total_price()}')\n"
   ]
  },
  {
   "cell_type": "code",
   "execution_count": null,
   "id": "9abf1f3f-1962-4270-b95e-82699f05b11c",
   "metadata": {},
   "outputs": [],
   "source": []
  }
 ],
 "metadata": {
  "kernelspec": {
   "display_name": "Python 3 (ipykernel)",
   "language": "python",
   "name": "python3"
  },
  "language_info": {
   "codemirror_mode": {
    "name": "ipython",
    "version": 3
   },
   "file_extension": ".py",
   "mimetype": "text/x-python",
   "name": "python",
   "nbconvert_exporter": "python",
   "pygments_lexer": "ipython3",
   "version": "3.12.4"
  }
 },
 "nbformat": 4,
 "nbformat_minor": 5
}
