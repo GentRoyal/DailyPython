{
 "cells": [
  {
   "cell_type": "code",
   "execution_count": 12,
   "id": "e2fbd33d-aee7-4efd-970b-95ea9ad4cf62",
   "metadata": {
    "scrolled": true
   },
   "outputs": [],
   "source": [
    "import pandas as pd\n",
    "\n",
    "# Fictional movie dataset\n",
    "data = {\n",
    "    'Title': ['The Last Stand', 'Mystic River', 'Skyfall', 'Silent Echo', 'Dark Horizon',\n",
    "              'Ocean Breeze', 'Night Hunter', 'Crystal Dreams', 'Hidden Truth', 'Final Hour'],\n",
    "    'Genre': ['Action', 'Drama', 'Action', 'Thriller', 'Sci-Fi',\n",
    "              'Romance', 'Thriller', 'Fantasy', 'Drama', 'Action'],\n",
    "    'Director': ['John Smith', 'Eva Green', 'Sam Mendes', 'David Lynch', 'Ridley Scott',\n",
    "                 'Nancy Drew', 'David Lynch', 'Peter Jackson', 'Eva Green', 'James Cameron'],\n",
    "    'Rating': [4.5, 4.2, 4.7, 4.0, 3.8, 4.3, 3.9, 4.1, 4.4, 4.6]\n",
    "}"
   ]
  },
  {
   "cell_type": "code",
   "execution_count": 22,
   "id": "869bc515-9e25-410e-a2b4-4a0d70d88628",
   "metadata": {},
   "outputs": [
    {
     "data": {
      "text/html": [
       "<div>\n",
       "<style scoped>\n",
       "    .dataframe tbody tr th:only-of-type {\n",
       "        vertical-align: middle;\n",
       "    }\n",
       "\n",
       "    .dataframe tbody tr th {\n",
       "        vertical-align: top;\n",
       "    }\n",
       "\n",
       "    .dataframe thead th {\n",
       "        text-align: right;\n",
       "    }\n",
       "</style>\n",
       "<table border=\"1\" class=\"dataframe\">\n",
       "  <thead>\n",
       "    <tr style=\"text-align: right;\">\n",
       "      <th></th>\n",
       "      <th>Title</th>\n",
       "      <th>Genre</th>\n",
       "      <th>Director</th>\n",
       "      <th>Rating</th>\n",
       "      <th>score</th>\n",
       "    </tr>\n",
       "  </thead>\n",
       "  <tbody>\n",
       "    <tr>\n",
       "      <th>2</th>\n",
       "      <td>Skyfall</td>\n",
       "      <td>Action</td>\n",
       "      <td>Sam Mendes</td>\n",
       "      <td>4.7</td>\n",
       "      <td>1</td>\n",
       "    </tr>\n",
       "    <tr>\n",
       "      <th>9</th>\n",
       "      <td>Final Hour</td>\n",
       "      <td>Action</td>\n",
       "      <td>James Cameron</td>\n",
       "      <td>4.6</td>\n",
       "      <td>1</td>\n",
       "    </tr>\n",
       "    <tr>\n",
       "      <th>0</th>\n",
       "      <td>The Last Stand</td>\n",
       "      <td>Action</td>\n",
       "      <td>John Smith</td>\n",
       "      <td>4.5</td>\n",
       "      <td>1</td>\n",
       "    </tr>\n",
       "  </tbody>\n",
       "</table>\n",
       "</div>"
      ],
      "text/plain": [
       "            Title   Genre       Director  Rating  score\n",
       "2         Skyfall  Action     Sam Mendes     4.7      1\n",
       "9      Final Hour  Action  James Cameron     4.6      1\n",
       "0  The Last Stand  Action     John Smith     4.5      1"
      ]
     },
     "execution_count": 22,
     "metadata": {},
     "output_type": "execute_result"
    }
   ],
   "source": [
    "movies_df = pd.DataFrame(data)\n",
    "\n",
    "movie_genre = movies_df['Genre'].to_list()\n",
    "movie_directors = movies_df['Director'].to_list()\n",
    "\n",
    "score = {title: 0 for title in movies_df['Title']}\n",
    "genre = \"Action\" #input(\"Movie Genre: \")\n",
    "director = \"Eva Green\" #input(\"Movie Director: \")\n",
    "\n",
    "for id, row in movies_df.iterrows():\n",
    "    movie_title = row['Title']\n",
    "    \n",
    "    if row['Genre'] == genre and row['Director'] == director:\n",
    "        score[movie_title] = 2\n",
    "    elif (row['Genre'] != genre and row['Director'] == director) or (row['Genre'] == genre and row['Director'] != director):\n",
    "        score[movie_title] = 1\n",
    "    else:\n",
    "        score[movie_title] = 0\n",
    "    \n",
    "    movies_df['score'] = movies_df['Title'].map(score)\n",
    "\n",
    "\n",
    "movies_df.sort_values(['score', 'Rating'], ascending=False).head(3)"
   ]
  },
  {
   "cell_type": "code",
   "execution_count": null,
   "id": "06dca197-8662-4b67-a243-aa1d29fd4302",
   "metadata": {},
   "outputs": [],
   "source": []
  }
 ],
 "metadata": {
  "kernelspec": {
   "display_name": "Python 3 (ipykernel)",
   "language": "python",
   "name": "python3"
  },
  "language_info": {
   "codemirror_mode": {
    "name": "ipython",
    "version": 3
   },
   "file_extension": ".py",
   "mimetype": "text/x-python",
   "name": "python",
   "nbconvert_exporter": "python",
   "pygments_lexer": "ipython3",
   "version": "3.12.4"
  }
 },
 "nbformat": 4,
 "nbformat_minor": 5
}
