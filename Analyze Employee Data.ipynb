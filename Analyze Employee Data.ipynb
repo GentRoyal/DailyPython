{
 "cells": [
  {
   "cell_type": "markdown",
   "id": "505022ce-b16e-4cfd-8fba-2f20435cf7c0",
   "metadata": {},
   "source": [
    "### Task: Analyze Employee Data\n",
    "\n",
    "#### Objective:\n",
    "Write a Python script that analyzes employee data to find out the following:\n",
    "1. The total number of employees in each department.\n",
    "2. The average salary of employees in each department.\n",
    "3. The employee with the highest salary in each department.\n",
    "\n",
    "#### Dataset:\n",
    "You can create a dataset with the following columns: `EmployeeID`, `EmployeeName`, `Department`, and `Salary`.\n",
    "\n",
    "### Steps to Complete:\n",
    "1. Load the dataset into a suitable data structure (e.g., a list of dictionaries).\n",
    "2. Use Python’s built-in functionalities or libraries like `pandas` to perform the following:\n",
    "   - Count the number of employees in each department.\n",
    "   - Calculate the average salary of employees in each department.\n",
    "   - Identify the employee with the highest salary in each department.\n",
    "3. Print the results in a clear format."
   ]
  },
  {
   "cell_type": "code",
   "execution_count": 1,
   "id": "42e57171-3dba-4830-adbf-bcb1be01ee84",
   "metadata": {},
   "outputs": [],
   "source": [
    "employee_data = [\n",
    "    {\"EmployeeID\": 1, \"EmployeeName\": \"Alice\", \"Department\": \"HR\", \"Salary\": 60000},\n",
    "    {\"EmployeeID\": 2, \"EmployeeName\": \"Bob\", \"Department\": \"HR\", \"Salary\": 70000},\n",
    "    {\"EmployeeID\": 3, \"EmployeeName\": \"Charlie\", \"Department\": \"IT\", \"Salary\": 80000},\n",
    "    {\"EmployeeID\": 4, \"EmployeeName\": \"David\", \"Department\": \"IT\", \"Salary\": 90000},\n",
    "    {\"EmployeeID\": 5, \"EmployeeName\": \"Eva\", \"Department\": \"Finance\", \"Salary\": 75000},\n",
    "    {\"EmployeeID\": 6, \"EmployeeName\": \"Frank\", \"Department\": \"Finance\", \"Salary\": 85000},\n",
    "    {\"EmployeeID\": 7, \"EmployeeName\": \"Grace\", \"Department\": \"Marketing\", \"Salary\": 55000},\n",
    "    {\"EmployeeID\": 8, \"EmployeeName\": \"Hannah\", \"Department\": \"Marketing\", \"Salary\": 60000},\n",
    "    {\"EmployeeID\": 9, \"EmployeeName\": \"Ian\", \"Department\": \"IT\", \"Salary\": 95000},\n",
    "    {\"EmployeeID\": 10, \"EmployeeName\": \"Judy\", \"Department\": \"HR\", \"Salary\": 72000},\n",
    "    {\"EmployeeID\": 11, \"EmployeeName\": \"Kevin\", \"Department\": \"Finance\", \"Salary\": 95000},\n",
    "    {\"EmployeeID\": 12, \"EmployeeName\": \"Laura\", \"Department\": \"HR\", \"Salary\": 68000},\n",
    "    {\"EmployeeID\": 13, \"EmployeeName\": \"Mike\", \"Department\": \"IT\", \"Salary\": 84000},\n",
    "    {\"EmployeeID\": 14, \"EmployeeName\": \"Nina\", \"Department\": \"Marketing\", \"Salary\": 57000},\n",
    "    {\"EmployeeID\": 15, \"EmployeeName\": \"Oscar\", \"Department\": \"Finance\", \"Salary\": 78000},\n",
    "    {\"EmployeeID\": 16, \"EmployeeName\": \"Paul\", \"Department\": \"IT\", \"Salary\": 99000},\n",
    "    {\"EmployeeID\": 17, \"EmployeeName\": \"Quinn\", \"Department\": \"HR\", \"Salary\": 71000},\n",
    "    {\"EmployeeID\": 18, \"EmployeeName\": \"Rick\", \"Department\": \"Marketing\", \"Salary\": 64000},\n",
    "    {\"EmployeeID\": 19, \"EmployeeName\": \"Sophie\", \"Department\": \"Finance\", \"Salary\": 83000},\n",
    "    {\"EmployeeID\": 20, \"EmployeeName\": \"Tom\", \"Department\": \"IT\", \"Salary\": 88000},\n",
    "]\n"
   ]
  },
  {
   "cell_type": "code",
   "execution_count": 6,
   "id": "1362cc34-eac4-4620-bb7d-2ef01ffb19b0",
   "metadata": {},
   "outputs": [
    {
     "data": {
      "text/plain": [
       "{'HR': 5, 'IT': 6, 'Finance': 5, 'Marketing': 4}"
      ]
     },
     "execution_count": 6,
     "metadata": {},
     "output_type": "execute_result"
    }
   ],
   "source": [
    "# Initialize an empty dictionary to hold department counts\n",
    "employee_dept = {}\n",
    "\n",
    "# Loop through each employee in the employee_data list\n",
    "for employee in employee_data:\n",
    "    # Get the department of the current employee\n",
    "    department = employee[\"Department\"]\n",
    "\n",
    "    # Check if the department is not already in the dictionary\n",
    "    if department not in employee_dept:\n",
    "        employee_dept[department] = 0  # Initialize the count for the department\n",
    "    \n",
    "    # Increment the count of employees in the department\n",
    "    employee_dept[department] += 1\n",
    "\n",
    "# Display the total number of employees in each department\n",
    "employee_dept\n"
   ]
  },
  {
   "cell_type": "code",
   "execution_count": 26,
   "id": "928aaa5d-6b2f-4f4e-a568-bacc92f02ee3",
   "metadata": {},
   "outputs": [
    {
     "name": "stdout",
     "output_type": "stream",
     "text": [
      "HR - 68200.00\n",
      "IT - 89333.33\n",
      "Finance - 83200.00\n",
      "Marketing - 59000.00\n"
     ]
    }
   ],
   "source": [
    "# Initialize dictionaries to hold total salaries and employee counts for each department\n",
    "dept_salary = {}\n",
    "count_employee = {}\n",
    "\n",
    "# Loop through each employee in the employee_data list\n",
    "for employee in employee_data:\n",
    "    # Get the department of the current employee\n",
    "    department = employee[\"Department\"]\n",
    "\n",
    "    # If the department is not already in the dictionaries, initialize values\n",
    "    if department not in dept_salary:\n",
    "        dept_salary[department] = 0  # Initialize total salary for the department\n",
    "        count_employee[department] = 0  # Initialize employee count for the department\n",
    "\n",
    "    # Add the employee's salary to the total salary for the department\n",
    "    dept_salary[department] += employee[\"Salary\"]\n",
    "    # Increment the count of employees in the department\n",
    "    count_employee[department] += 1\n",
    "\n",
    "# Print the average salary for each department\n",
    "for department in dept_salary.keys():\n",
    "    average_salary = dept_salary[department] / count_employee[department]\n",
    "    print(f'{department} - {average_salary:.2f}')\n"
   ]
  },
  {
   "cell_type": "code",
   "execution_count": 61,
   "id": "605f6fdc-c8e5-467b-9fd6-6054b4f730fc",
   "metadata": {},
   "outputs": [
    {
     "data": {
      "text/plain": [
       "{'HR': 72000, 'IT': 99000, 'Finance': 95000, 'Marketing': 64000}"
      ]
     },
     "execution_count": 61,
     "metadata": {},
     "output_type": "execute_result"
    }
   ],
   "source": [
    "# Initialize an empty dictionary to store the maximum salary per department\n",
    "employee = {}\n",
    "\n",
    "# Loop through each employee's details in the employee_data list\n",
    "for employee_details in employee_data:\n",
    "    department = employee_details[\"Department\"]\n",
    "\n",
    "    # If the department is already in the dictionary, skip further processing\n",
    "    if department in employee:\n",
    "        continue\n",
    "    #Get the employee departmment\n",
    "    employee[department] = department \n",
    "\n",
    "    #Calculate the maximum salary in the department\n",
    "    max_salary = max([emp_det[\"Salary\"] for emp_det in employee_data if department == emp_det[\"Department\"]])\n",
    "\n",
    "    #Assign the maximum salary to its department\n",
    "    employee[department] = max_salary\n",
    "    \n",
    "employee"
   ]
  },
  {
   "cell_type": "code",
   "execution_count": 62,
   "id": "6cfb6609-eecf-465a-a7c1-489e6460f18e",
   "metadata": {},
   "outputs": [
    {
     "data": {
      "text/plain": [
       "{'HR': 72000, 'IT': 99000, 'Finance': 95000, 'Marketing': 64000}"
      ]
     },
     "execution_count": 62,
     "metadata": {},
     "output_type": "execute_result"
    }
   ],
   "source": [
    "# Initialize an empty dictionary to store the maximum salary per department\n",
    "employee = {}\n",
    "\n",
    "# Loop through each employee's details in the employee_data list\n",
    "for employee_details in employee_data:\n",
    "    department = employee_details[\"Department\"]\n",
    "    \n",
    "    # If the department is already in the dictionary, skip further processing\n",
    "    if department in employee:\n",
    "        continue\n",
    "    \n",
    "    # Find the maximum salary for the current department\n",
    "    max_salary = max(emp_det[\"Salary\"] for emp_det in employee_data if emp_det[\"Department\"] == department)\n",
    "    \n",
    "    # Store the maximum salary in the dictionary with the department as the key\n",
    "    employee[department] = max_salary\n",
    "\n",
    "# Output the dictionary with departments and their respective maximum salaries\n",
    "employee\n"
   ]
  },
  {
   "cell_type": "code",
   "execution_count": null,
   "id": "c8ec986f-4a21-48b7-980b-efcce059dd77",
   "metadata": {},
   "outputs": [],
   "source": []
  }
 ],
 "metadata": {
  "kernelspec": {
   "display_name": "Python 3 (ipykernel)",
   "language": "python",
   "name": "python3"
  },
  "language_info": {
   "codemirror_mode": {
    "name": "ipython",
    "version": 3
   },
   "file_extension": ".py",
   "mimetype": "text/x-python",
   "name": "python",
   "nbconvert_exporter": "python",
   "pygments_lexer": "ipython3",
   "version": "3.12.4"
  }
 },
 "nbformat": 4,
 "nbformat_minor": 5
}
