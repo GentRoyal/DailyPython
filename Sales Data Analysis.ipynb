{
 "cells": [
  {
   "cell_type": "markdown",
   "id": "b52743c4-65a2-441c-a1f1-fa90114e9e3e",
   "metadata": {},
   "source": [
    "### **Task**: Sales Data Analysis\n",
    "You are given a list of transactions from a store. Each transaction includes the following details:\n",
    "- **Transaction ID**\n",
    "- **Product**\n",
    "- **Quantity Sold**\n",
    "- **Price per Unit**\n",
    "- **Date**\n",
    "\n",
    "The goal is to analyze the sales data to answer the following questions:\n",
    "1. Calculate the total revenue for each product.\n",
    "2. Identify the product with the highest sales on a specific date.\n",
    "3. For each product, calculate the total revenue for each month.\n",
    "4. Generate a report showing the cumulative sales (revenue) over time for each product.\n",
    "\n",
    "### Example Data\n",
    "```python\n",
    "sales_data = [\n",
    "    {\"TransactionID\": 1, \"Product\": \"Laptop\", \"Quantity\": 2, \"Price\": 1000, \"Date\": \"2023-05-01\"},\n",
    "    {\"TransactionID\": 2, \"Product\": \"Smartphone\", \"Quantity\": 5, \"Price\": 600, \"Date\": \"2023-05-03\"},\n",
    "    {\"TransactionID\": 3, \"Product\": \"Headphones\", \"Quantity\": 10, \"Price\": 50, \"Date\": \"2023-06-10\"},\n",
    "    {\"TransactionID\": 4, \"Product\": \"Laptop\", \"Quantity\": 1, \"Price\": 1000, \"Date\": \"2023-06-12\"},\n",
    "    {\"TransactionID\": 5, \"Product\": \"Smartphone\", \"Quantity\": 3, \"Price\": 600, \"Date\": \"2023-07-01\"},\n",
    "]\n",
    "```\n",
    "\n",
    "### Tasks:\n",
    "1. **Total Revenue for Each Product**: Sum up the revenue for each product (Quantity * Price).\n",
    "2. **Highest Sales on Specific Date**: On a given date (for example, \"2023-05-03\"), find the product with the highest revenue.\n",
    "3. **Monthly Revenue per Product**: Calculate the total revenue for each product for each month (group by product and month).\n",
    "4. **Cumulative Sales Over Time**: Generate a cumulative sales report that shows how the revenue for each product increases over time.\n",
    "\n",
    "### Requirements:\n",
    "- Use Python lists and dictionaries to handle the data.\n",
    "- Use date manipulation to handle the time-based calculations (hint: the `datetime` module will be helpful).\n",
    "- Use loops, conditionals, and aggregation techniques (no external libraries like Pandas)."
   ]
  },
  {
   "cell_type": "code",
   "execution_count": 1,
   "id": "7e8b44a7-c2bb-45f5-8076-ab23e45e5b4c",
   "metadata": {},
   "outputs": [],
   "source": [
    "sales_data = [\n",
    "    {\"TransactionID\": 1, \"Product\": \"Laptop\", \"Quantity\": 2, \"Price\": 1000, \"Date\": \"2023-05-01\"},\n",
    "    {\"TransactionID\": 2, \"Product\": \"Smartphone\", \"Quantity\": 5, \"Price\": 600, \"Date\": \"2023-05-01\"},\n",
    "    {\"TransactionID\": 3, \"Product\": \"Headphones\", \"Quantity\": 10, \"Price\": 50, \"Date\": \"2023-05-03\"},\n",
    "    {\"TransactionID\": 4, \"Product\": \"Smartwatch\", \"Quantity\": 4, \"Price\": 300, \"Date\": \"2023-05-03\"},\n",
    "    {\"TransactionID\": 5, \"Product\": \"Laptop\", \"Quantity\": 1, \"Price\": 1000, \"Date\": \"2023-05-05\"},\n",
    "    {\"TransactionID\": 6, \"Product\": \"Smartphone\", \"Quantity\": 3, \"Price\": 600, \"Date\": \"2023-05-05\"},\n",
    "    {\"TransactionID\": 7, \"Product\": \"Headphones\", \"Quantity\": 15, \"Price\": 45, \"Date\": \"2023-06-10\"},\n",
    "    {\"TransactionID\": 8, \"Product\": \"Smartwatch\", \"Quantity\": 2, \"Price\": 350, \"Date\": \"2023-06-10\"},\n",
    "    {\"TransactionID\": 9, \"Product\": \"Laptop\", \"Quantity\": 1, \"Price\": 950, \"Date\": \"2023-06-12\"},\n",
    "    {\"TransactionID\": 10, \"Product\": \"Smartphone\", \"Quantity\": 2, \"Price\": 580, \"Date\": \"2023-06-12\"},\n",
    "    {\"TransactionID\": 11, \"Product\": \"Laptop\", \"Quantity\": 3, \"Price\": 900, \"Date\": \"2023-06-15\"},\n",
    "    {\"TransactionID\": 12, \"Product\": \"Smartphone\", \"Quantity\": 4, \"Price\": 620, \"Date\": \"2023-07-01\"},\n",
    "    {\"TransactionID\": 13, \"Product\": \"Headphones\", \"Quantity\": 8, \"Price\": 55, \"Date\": \"2023-07-01\"},\n",
    "    {\"TransactionID\": 14, \"Product\": \"Smartwatch\", \"Quantity\": 6, \"Price\": 320, \"Date\": \"2023-07-01\"},\n",
    "    {\"TransactionID\": 15, \"Product\": \"Smartphone\", \"Quantity\": 5, \"Price\": 600, \"Date\": \"2023-07-05\"},\n",
    "    {\"TransactionID\": 16, \"Product\": \"Headphones\", \"Quantity\": 12, \"Price\": 50, \"Date\": \"2023-07-05\"},\n",
    "    {\"TransactionID\": 17, \"Product\": \"Laptop\", \"Quantity\": 1, \"Price\": 980, \"Date\": \"2023-07-10\"},\n",
    "    {\"TransactionID\": 18, \"Product\": \"Smartwatch\", \"Quantity\": 3, \"Price\": 340, \"Date\": \"2023-07-10\"}\n",
    "]"
   ]
  },
  {
   "cell_type": "markdown",
   "id": "c72e92fb-b13d-4143-981b-9ed15585a8a9",
   "metadata": {},
   "source": [
    "#### Total Revenue for Each Product: Sum up the revenue for each product (Quantity * Price)."
   ]
  },
  {
   "cell_type": "code",
   "execution_count": 5,
   "id": "ad81687b-0b13-46df-a52f-b2c90e3a6441",
   "metadata": {},
   "outputs": [
    {
     "data": {
      "text/plain": [
       "{'Laptop': 7630, 'Smartphone': 11440, 'Headphones': 2215, 'Smartwatch': 4840}"
      ]
     },
     "execution_count": 5,
     "metadata": {},
     "output_type": "execute_result"
    }
   ],
   "source": [
    "# Task 1: Total Revenue for Each Product - Sum up the revenue for each product (Quantity * Price).\n",
    "# Initialize an empty dictionary to store revenue for each product\n",
    "product_revenue = {}\n",
    "\n",
    "# Iterate over each transaction in the sales data\n",
    "for transaction in sales_data:\n",
    "    # Extract the product name from the current transaction\n",
    "    product = transaction['Product']\n",
    "    \n",
    "    # If the product is not already in the dictionary, add it with an initial revenue of 0\n",
    "    if product not in product_revenue:\n",
    "        product_revenue[product] = 0\n",
    "    \n",
    "    # Add the revenue (Price * Quantity) from the current transaction to the total revenue for that product\n",
    "    product_revenue[product] += transaction['Price'] * transaction['Quantity']\n",
    "\n",
    "# Display the dictionary that contains the total revenue for each product\n",
    "product_revenue"
   ]
  },
  {
   "cell_type": "markdown",
   "id": "73dc7e61-9e14-4f06-96e6-6bac2086c6ef",
   "metadata": {},
   "source": [
    "#### Highest Sales on Specific Date: On a given date (for example, \"2023-05-03\"), find the product with the highest revenue."
   ]
  },
  {
   "cell_type": "code",
   "execution_count": 26,
   "id": "9f4ff0ff-970e-4283-9516-d9edea3b4010",
   "metadata": {},
   "outputs": [
    {
     "name": "stdout",
     "output_type": "stream",
     "text": [
      "Smartphone has the highest revenue of 3000 on 2023-07-05\n"
     ]
    }
   ],
   "source": [
    "# Highest Sales on Specific Date: On a given date (for example, \"2023-05-03\"), find the product with the highest revenue.\n",
    "\n",
    "specific_date = \"2023-07-05\" #specific_date = input(\"Date: \")\n",
    "max_revenue = 0\n",
    "top_product = None\n",
    "\n",
    "for transaction in sales_data:\n",
    "    if specific_date == transaction[\"Date\"]:\n",
    "        revenue = transaction[\"Price\"] * transaction[\"Quantity\"]\n",
    "        if revenue > max_revenue:\n",
    "            max_revenue = revenue\n",
    "            top_product =  transaction[\"Product\"]\n",
    "\n",
    "print(f'{top_product} has the highest revenue of {max_revenue} on {specific_date}' \n",
    "      if top_product is not None else \"No available data for specific date\")"
   ]
  },
  {
   "cell_type": "markdown",
   "id": "41fee790-d904-45cb-b327-8075a6ebf71c",
   "metadata": {},
   "source": [
    "#### Monthly Revenue per Product: Calculate the total revenue for each product for each month (group by product and month)."
   ]
  },
  {
   "cell_type": "code",
   "execution_count": 118,
   "id": "8b3edbbf-c27e-4cac-a592-063a23dec3ea",
   "metadata": {},
   "outputs": [
    {
     "name": "stdout",
     "output_type": "stream",
     "text": [
      "May - Laptop: $3000\n",
      "May - Smartphone: $4800\n",
      "May - Headphones: $500\n",
      "May - Smartwatch: $1200\n",
      "June - Headphones: $675\n",
      "June - Smartwatch: $700\n",
      "June - Laptop: $3650\n",
      "June - Smartphone: $1160\n",
      "July - Smartphone: $5480\n",
      "July - Headphones: $1040\n",
      "July - Smartwatch: $2940\n",
      "July - Laptop: $980\n"
     ]
    }
   ],
   "source": [
    "#Monthly Revenue per Product: Calculate the total revenue for each product for each month (group by product and month).\n",
    "from datetime import datetime\n",
    "monthly_revenue = {}\n",
    "\n",
    "# Loop through each transaction in the sales data\n",
    "for transaction in sales_data:\n",
    "    date = transaction[\"Date\"]  # Get the transaction date\n",
    "    product = transaction[\"Product\"]  # Get the product name\n",
    "\n",
    "    # Convert the date to the month name (e.g., \"May\", \"June\")\n",
    "    month = datetime.strptime(date, \"%Y-%m-%d\").strftime(\"%B\")\n",
    "    \n",
    "    # Create a key based on the product and the month (to group by product and month)\n",
    "    product_month_key = (product, month)\n",
    "    \n",
    "    # If the product-month combination is not in the dictionary, initialize it with 0\n",
    "    if product_month_key not in monthly_revenue:\n",
    "        monthly_revenue[product_month_key] = 0\n",
    "    \n",
    "    # Add the revenue (Price * Quantity) for the transaction to the running total for that product-month\n",
    "    monthly_revenue[product_month_key] += transaction[\"Price\"] * transaction[\"Quantity\"]\n",
    "\n",
    "# Output the total revenue for each product for each month\n",
    "for (product, month), revenue in monthly_revenue.items():\n",
    "    print(f'{month} - {product}: ${revenue}')"
   ]
  },
  {
   "cell_type": "markdown",
   "id": "93299ae8-f8d2-4f01-8aba-9af571821612",
   "metadata": {},
   "source": [
    "#### Cumulative Sales Over Time: Generate a cumulative sales report that shows how the revenue for each product increases over time."
   ]
  },
  {
   "cell_type": "code",
   "execution_count": 120,
   "id": "39152a17-2eab-4497-9291-ae06fb372328",
   "metadata": {},
   "outputs": [
    {
     "name": "stdout",
     "output_type": "stream",
     "text": [
      "Date: 2023-05-01\tProduct: Laptop \tPrice: 1000 \tQuantity: 2 \tCumulative Revenue: 2000\n",
      "Date: 2023-05-01\tProduct: Smartphone \tPrice: 600 \tQuantity: 5 \tCumulative Revenue: 3000\n",
      "Date: 2023-05-03\tProduct: Headphones \tPrice: 50 \tQuantity: 10 \tCumulative Revenue: 500\n",
      "Date: 2023-05-03\tProduct: Smartwatch \tPrice: 300 \tQuantity: 4 \tCumulative Revenue: 1200\n",
      "Date: 2023-05-05\tProduct: Laptop \tPrice: 1000 \tQuantity: 1 \tCumulative Revenue: 3000\n",
      "Date: 2023-05-05\tProduct: Smartphone \tPrice: 600 \tQuantity: 3 \tCumulative Revenue: 4800\n",
      "Date: 2023-06-10\tProduct: Headphones \tPrice: 45 \tQuantity: 15 \tCumulative Revenue: 1175\n",
      "Date: 2023-06-10\tProduct: Smartwatch \tPrice: 350 \tQuantity: 2 \tCumulative Revenue: 1900\n",
      "Date: 2023-06-12\tProduct: Laptop \tPrice: 950 \tQuantity: 1 \tCumulative Revenue: 3950\n",
      "Date: 2023-06-12\tProduct: Smartphone \tPrice: 580 \tQuantity: 2 \tCumulative Revenue: 5960\n",
      "Date: 2023-06-15\tProduct: Laptop \tPrice: 900 \tQuantity: 3 \tCumulative Revenue: 6650\n",
      "Date: 2023-07-01\tProduct: Smartphone \tPrice: 620 \tQuantity: 4 \tCumulative Revenue: 8440\n",
      "Date: 2023-07-01\tProduct: Headphones \tPrice: 55 \tQuantity: 8 \tCumulative Revenue: 1615\n",
      "Date: 2023-07-01\tProduct: Smartwatch \tPrice: 320 \tQuantity: 6 \tCumulative Revenue: 3820\n",
      "Date: 2023-07-05\tProduct: Smartphone \tPrice: 600 \tQuantity: 5 \tCumulative Revenue: 11440\n",
      "Date: 2023-07-05\tProduct: Headphones \tPrice: 50 \tQuantity: 12 \tCumulative Revenue: 2215\n",
      "Date: 2023-07-10\tProduct: Laptop \tPrice: 980 \tQuantity: 1 \tCumulative Revenue: 7630\n",
      "Date: 2023-07-10\tProduct: Smartwatch \tPrice: 340 \tQuantity: 3 \tCumulative Revenue: 4840\n"
     ]
    }
   ],
   "source": [
    "# Cumulative Sales Over Time: Generate a cumulative sales report that shows how the revenue for each product increases over time.\n",
    "# Initialize a dictionary to store cumulative sales per product\n",
    "cumulative_sales = {}\n",
    "\n",
    "# Sort the sales data by the 'Date' key to ensure sales are processed in chronological order\n",
    "sales_data_sorted = sorted(sales_data, key=lambda x: x['Date'])\n",
    "\n",
    "# Loop through the sorted sales data\n",
    "for transaction in sales_data_sorted:\n",
    "    \n",
    "    # Extract details from each transaction\n",
    "    product = transaction['Product']\n",
    "    date = transaction['Date']\n",
    "    price = transaction['Price']\n",
    "    qty = transaction['Quantity']\n",
    "    \n",
    "    # Calculate revenue for the current transaction\n",
    "    revenue = price * qty\n",
    "\n",
    "    # If the product is not already in cumulative_sales, initialize it\n",
    "    if product not in cumulative_sales:\n",
    "        cumulative_sales[product] = 0\n",
    "    \n",
    "    # Add the current revenue to the cumulative total for this product\n",
    "    cumulative_sales[product] += revenue\n",
    "\n",
    "    # Print the cumulative sales report for the current transaction\n",
    "    print(f'Date: {date}\\tProduct: {product} \\tPrice: {price} \\tQuantity: {qty} \\tCumulative Revenue: {cumulative_sales[product]}')\n"
   ]
  },
  {
   "cell_type": "code",
   "execution_count": null,
   "id": "e5d2768d-11f7-4b53-bf01-6d85c974b3df",
   "metadata": {},
   "outputs": [],
   "source": []
  }
 ],
 "metadata": {
  "kernelspec": {
   "display_name": "Python 3 (ipykernel)",
   "language": "python",
   "name": "python3"
  },
  "language_info": {
   "codemirror_mode": {
    "name": "ipython",
    "version": 3
   },
   "file_extension": ".py",
   "mimetype": "text/x-python",
   "name": "python",
   "nbconvert_exporter": "python",
   "pygments_lexer": "ipython3",
   "version": "3.12.4"
  }
 },
 "nbformat": 4,
 "nbformat_minor": 5
}
